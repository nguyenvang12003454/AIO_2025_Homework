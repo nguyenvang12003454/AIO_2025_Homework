{
  "nbformat": 4,
  "nbformat_minor": 0,
  "metadata": {
    "colab": {
      "provenance": [],
      "authorship_tag": "ABX9TyMxOviomRVZenv5ajIQEMQz",
      "include_colab_link": true
    },
    "kernelspec": {
      "name": "python3",
      "display_name": "Python 3"
    },
    "language_info": {
      "name": "python"
    }
  },
  "cells": [
    {
      "cell_type": "markdown",
      "metadata": {
        "id": "view-in-github",
        "colab_type": "text"
      },
      "source": [
        "<a href=\"https://colab.research.google.com/github/nguyenvang12003454/AIO_2025_Homework/blob/main/Daily_code_day_1.ipynb\" target=\"_parent\"><img src=\"https://colab.research.google.com/assets/colab-badge.svg\" alt=\"Open In Colab\"/></a>"
      ]
    },
    {
      "cell_type": "markdown",
      "source": [
        "# Calculate Can Chi calendar"
      ],
      "metadata": {
        "id": "XKgMAhvDS8z_"
      }
    },
    {
      "cell_type": "code",
      "execution_count": 32,
      "metadata": {
        "id": "hgfu8w7RRbCV"
      },
      "outputs": [],
      "source": [
        "def cal_can_chi_calendar(year):\n",
        "  result = ''\n",
        "  can = ['Canh ', 'Tân ', 'Nhâm ', 'Quý ', 'Giáp ', 'Ất ', 'Bính ', 'Đinh ', 'Mậu ', 'Kỷ ']\n",
        "  chi = ['Thân', 'Dậu', 'Tuất', 'Hợi', 'Tý', 'Sửu', 'Dần', 'Mão', 'Thìn', 'Tỵ', 'Ngọ', 'Mùi.']\n",
        "\n",
        "  for i in range(0, 9):\n",
        "    if year % 10 == i:\n",
        "      result += can[i]\n",
        "\n",
        "  for i in range(0, 11):\n",
        "    if year % 12 == i:\n",
        "      result += chi[i]\n",
        "\n",
        "  return result\n"
      ]
    },
    {
      "cell_type": "code",
      "source": [
        "print(cal_can_chi_calendar(2025))\n",
        "print(cal_can_chi_calendar(2024))\n",
        "print(cal_can_chi_calendar(1997))"
      ],
      "metadata": {
        "colab": {
          "base_uri": "https://localhost:8080/"
        },
        "id": "m1f4kWAcVE8r",
        "outputId": "e74ce2af-bee3-4475-c6a8-e7cdf5fb6850"
      },
      "execution_count": 30,
      "outputs": [
        {
          "output_type": "stream",
          "name": "stdout",
          "text": [
            "Ất Tỵ\n",
            "Giáp Thìn\n",
            "Đinh Sửu\n"
          ]
        }
      ]
    },
    {
      "cell_type": "markdown",
      "source": [
        "# Activation function"
      ],
      "metadata": {
        "id": "DafZZ4t2Yaag"
      }
    },
    {
      "cell_type": "markdown",
      "source": [
        "## ReLU"
      ],
      "metadata": {
        "id": "NvOXiTtlYgOl"
      }
    },
    {
      "cell_type": "code",
      "source": [
        "def relu(x):\n",
        "  if x>0:\n",
        "    relu = x\n",
        "  else:\n",
        "    relu = 0\n",
        "\n",
        "  return relu"
      ],
      "metadata": {
        "id": "0d_vgt-HYdZ0"
      },
      "execution_count": 34,
      "outputs": []
    },
    {
      "cell_type": "code",
      "source": [
        "print(relu(3))\n",
        "print(relu(-2))\n",
        "print(relu(0))"
      ],
      "metadata": {
        "colab": {
          "base_uri": "https://localhost:8080/"
        },
        "id": "CeNtrtTBYunr",
        "outputId": "1da79d93-0aa2-421f-bf70-ff8ccb0a472c"
      },
      "execution_count": 36,
      "outputs": [
        {
          "output_type": "stream",
          "name": "stdout",
          "text": [
            "3\n",
            "0\n",
            "0\n"
          ]
        }
      ]
    },
    {
      "cell_type": "markdown",
      "source": [
        "## Leaky ReLU"
      ],
      "metadata": {
        "id": "-fSNZ4xwZUMq"
      }
    },
    {
      "cell_type": "code",
      "source": [
        "def leaky_relu(x, alpha = 0.01):\n",
        "  if x>0:\n",
        "    leaky_relu = x\n",
        "  else:\n",
        "    leaky_relu = alpha*x\n",
        "\n",
        "  return leaky_relu"
      ],
      "metadata": {
        "id": "vOd6nwh3ZXj-"
      },
      "execution_count": 37,
      "outputs": []
    },
    {
      "cell_type": "code",
      "source": [
        "print(leaky_relu(3))\n",
        "print(leaky_relu(-2))\n",
        "print(leaky_relu(0))"
      ],
      "metadata": {
        "colab": {
          "base_uri": "https://localhost:8080/"
        },
        "id": "ASapsM7OZeqP",
        "outputId": "5f15635b-0b35-4a9a-992a-35b49722c3f7"
      },
      "execution_count": 38,
      "outputs": [
        {
          "output_type": "stream",
          "name": "stdout",
          "text": [
            "3\n",
            "-0.02\n",
            "0.0\n"
          ]
        }
      ]
    },
    {
      "cell_type": "markdown",
      "source": [
        "## Sigmoid"
      ],
      "metadata": {
        "id": "JQP1rTY_ZmjC"
      }
    },
    {
      "cell_type": "code",
      "source": [
        "import math\n",
        "\n",
        "def sigmoid(x):\n",
        "  return 1/(1+math.exp(-x))"
      ],
      "metadata": {
        "id": "bKOAjAi_Zn0g"
      },
      "execution_count": 39,
      "outputs": []
    },
    {
      "cell_type": "code",
      "source": [
        "print(sigmoid(0))"
      ],
      "metadata": {
        "colab": {
          "base_uri": "https://localhost:8080/"
        },
        "id": "uNc2aSgFZtLy",
        "outputId": "6a841b98-82a6-4d63-b7f7-69f21cb1f06f"
      },
      "execution_count": 40,
      "outputs": [
        {
          "output_type": "stream",
          "name": "stdout",
          "text": [
            "0.5\n"
          ]
        }
      ]
    },
    {
      "cell_type": "code",
      "source": [
        "print(sigmoid(2))\n",
        "print(sigmoid(-2))"
      ],
      "metadata": {
        "colab": {
          "base_uri": "https://localhost:8080/"
        },
        "id": "d7c9WBPHZwip",
        "outputId": "70ac18e5-0375-4dff-b35f-0ea2b411f26b"
      },
      "execution_count": 41,
      "outputs": [
        {
          "output_type": "stream",
          "name": "stdout",
          "text": [
            "0.8807970779778823\n",
            "0.11920292202211755\n"
          ]
        }
      ]
    },
    {
      "cell_type": "markdown",
      "source": [
        "## Tanh"
      ],
      "metadata": {
        "id": "YB8TuFfiZ0Wz"
      }
    },
    {
      "cell_type": "code",
      "source": [
        "import math\n",
        "\n",
        "def tanh(x):\n",
        "  return (math.exp(x)-math.exp(-x))/(math.exp(x)+math.exp(-x))"
      ],
      "metadata": {
        "id": "zbblbEE8Z1uC"
      },
      "execution_count": 42,
      "outputs": []
    },
    {
      "cell_type": "code",
      "source": [
        "print(tanh(0))"
      ],
      "metadata": {
        "colab": {
          "base_uri": "https://localhost:8080/"
        },
        "id": "XJPRRsmJZ5jJ",
        "outputId": "6816bec7-d48f-4251-d2f7-1d1f030869cf"
      },
      "execution_count": 43,
      "outputs": [
        {
          "output_type": "stream",
          "name": "stdout",
          "text": [
            "0.0\n"
          ]
        }
      ]
    },
    {
      "cell_type": "code",
      "source": [
        "print(tanh(2))\n",
        "print(tanh(150))"
      ],
      "metadata": {
        "colab": {
          "base_uri": "https://localhost:8080/"
        },
        "id": "9mgo_-SgZzgN",
        "outputId": "71313f79-e1fb-4655-d424-2a1c6e22ec9e"
      },
      "execution_count": 44,
      "outputs": [
        {
          "output_type": "stream",
          "name": "stdout",
          "text": [
            "0.964027580075817\n",
            "1.0\n"
          ]
        }
      ]
    },
    {
      "cell_type": "markdown",
      "source": [
        "## ELU"
      ],
      "metadata": {
        "id": "zkpWdd5oaAwY"
      }
    },
    {
      "cell_type": "code",
      "source": [
        "import math\n",
        "\n",
        "def elu(x, alpha = 1.0):\n",
        "  if x>0:\n",
        "    elu = x\n",
        "  else:\n",
        "    elu = alpha*(math.exp(x)-1)\n",
        "\n",
        "  return elu"
      ],
      "metadata": {
        "id": "nXFTbM8mZ_vl"
      },
      "execution_count": 47,
      "outputs": []
    },
    {
      "cell_type": "code",
      "source": [
        "print(elu(0))\n",
        "print(elu(-1))\n",
        "print(elu(3))"
      ],
      "metadata": {
        "colab": {
          "base_uri": "https://localhost:8080/"
        },
        "id": "1es_uppkaFay",
        "outputId": "dacc2a9b-2ab8-47f3-c634-f3886e9d3345"
      },
      "execution_count": 48,
      "outputs": [
        {
          "output_type": "stream",
          "name": "stdout",
          "text": [
            "0.0\n",
            "-0.6321205588285577\n",
            "3\n"
          ]
        }
      ]
    }
  ]
}