{
  "nbformat": 4,
  "nbformat_minor": 0,
  "metadata": {
    "colab": {
      "provenance": [],
      "authorship_tag": "ABX9TyNTqwNILxZ1r7Uw3jJ5S9nG",
      "include_colab_link": true
    },
    "kernelspec": {
      "name": "python3",
      "display_name": "Python 3"
    },
    "language_info": {
      "name": "python"
    }
  },
  "cells": [
    {
      "cell_type": "markdown",
      "metadata": {
        "id": "view-in-github",
        "colab_type": "text"
      },
      "source": [
        "<a href=\"https://colab.research.google.com/github/nguyenvang12003454/AIO_2025_Homework/blob/main/Daily_code_day_11.ipynb\" target=\"_parent\"><img src=\"https://colab.research.google.com/assets/colab-badge.svg\" alt=\"Open In Colab\"/></a>"
      ]
    },
    {
      "cell_type": "markdown",
      "source": [
        "# 2D List - Convolutional calculation"
      ],
      "metadata": {
        "id": "K7QUfozZ9XE7"
      }
    },
    {
      "cell_type": "code",
      "execution_count": 5,
      "metadata": {
        "colab": {
          "base_uri": "https://localhost:8080/"
        },
        "id": "vSlZRPJn9HHu",
        "outputId": "ef0f208f-dd7d-4180-939a-a9a0b1da37cd"
      },
      "outputs": [
        {
          "output_type": "stream",
          "name": "stdout",
          "text": [
            "[[1, 2, 3], [4, 5, 6], [7, 8, 9]]\n",
            "[[2, 4], [1, 3]]\n"
          ]
        }
      ],
      "source": [
        "# Matrix\n",
        "mat_a = [\n",
        "    [1, 2, 3],\n",
        "    [4, 5, 6],\n",
        "    [7, 8, 9]\n",
        "]\n",
        "mat_b = [[2, 4], [1, 3]]\n",
        "\n",
        "print(mat_a)\n",
        "print(mat_b)"
      ]
    },
    {
      "cell_type": "markdown",
      "source": [
        "## Cau 1"
      ],
      "metadata": {
        "id": "I0yQWrgR-QZf"
      }
    },
    {
      "cell_type": "code",
      "source": [
        "def convolution(mat_a, mat_b):\n",
        "  if not mat_a or not mat_b:\n",
        "    return []\n",
        "\n",
        "  n_rows = len(mat_a) - len(mat_b) + 1\n",
        "  n_cols = len(mat_a[0]) - len(mat_b[0]) + 1\n",
        "\n",
        "  if n_rows <= 0 or n_cols <= 0:\n",
        "    return []\n",
        "\n",
        "  result = []\n",
        "\n",
        "  for i in range(n_rows):\n",
        "    rows = []\n",
        "    for j in range(n_cols):\n",
        "      sum = 0\n",
        "      for k in range(len(mat_b)):\n",
        "        for l in range(len(mat_b[0])):\n",
        "          sum += mat_a[i+k][j+l] * mat_b[k][l]\n",
        "\n",
        "      rows.append(sum)\n",
        "    result.append(rows)\n",
        "  return result"
      ],
      "metadata": {
        "id": "FWJ1ebay-OUs"
      },
      "execution_count": 13,
      "outputs": []
    },
    {
      "cell_type": "code",
      "source": [
        "result = convolution(mat_a, mat_b)\n",
        "print(result)"
      ],
      "metadata": {
        "colab": {
          "base_uri": "https://localhost:8080/"
        },
        "id": "g6aCq1jhgNdM",
        "outputId": "41b6729e-d9d6-4ec9-e1e3-a74d284d783b"
      },
      "execution_count": 12,
      "outputs": [
        {
          "output_type": "stream",
          "name": "stdout",
          "text": [
            "[[29, 39], [59, 69]]\n"
          ]
        }
      ]
    },
    {
      "cell_type": "markdown",
      "source": [
        "## Cau 2"
      ],
      "metadata": {
        "id": "WoVoi6SjqZoc"
      }
    },
    {
      "cell_type": "code",
      "source": [
        "mat_c = [[1, 1, 1],\n",
        "         [0, 0, 0],\n",
        "         [1, 1, 1]]\n",
        "\n",
        "result = convolution(mat_a, mat_c)\n",
        "print(result)"
      ],
      "metadata": {
        "colab": {
          "base_uri": "https://localhost:8080/"
        },
        "id": "pnmUJNCkqahb",
        "outputId": "c9cef0b1-f865-4a4f-cb9d-8489072da132"
      },
      "execution_count": 14,
      "outputs": [
        {
          "output_type": "stream",
          "name": "stdout",
          "text": [
            "[[30]]\n"
          ]
        }
      ]
    },
    {
      "cell_type": "markdown",
      "source": [
        "# Padding"
      ],
      "metadata": {
        "id": "-6K3Z9KtqzWB"
      }
    },
    {
      "cell_type": "code",
      "source": [
        "mat_a = [[0, 0, 0],\n",
        "         [0, 4, 0],\n",
        "         [0, 1, 0]]\n",
        "\n",
        "kernel_b = [[1, 1], [1, 1]]\n",
        "\n",
        "print(mat_a, kernel_b)"
      ],
      "metadata": {
        "colab": {
          "base_uri": "https://localhost:8080/"
        },
        "id": "rd5ULTZXq0eA",
        "outputId": "4d28fe91-734d-4e43-f1e3-7134d83da1c8"
      },
      "execution_count": 42,
      "outputs": [
        {
          "output_type": "stream",
          "name": "stdout",
          "text": [
            "[[0, 0, 0], [0, 4, 0], [0, 1, 0]] [[1, 1], [1, 1]]\n"
          ]
        }
      ]
    },
    {
      "cell_type": "markdown",
      "source": [
        "## Cau 1"
      ],
      "metadata": {
        "id": "qhLAsJf8rBxl"
      }
    },
    {
      "cell_type": "code",
      "source": [
        "def padding(mat, pad_size):\n",
        "  if not mat:\n",
        "    return []\n",
        "\n",
        "  n_rows = len(mat)\n",
        "  n_cols = len(mat[0])\n",
        "\n",
        "  pad_rows = n_rows + 2 * pad_size\n",
        "  pad_cols = n_cols + 2 * pad_size\n",
        "  pad = [[0]*pad_cols for _ in range(pad_rows)]\n",
        "\n",
        "  for i in range(n_rows):\n",
        "    for j in range(n_cols):\n",
        "      pad[i+pad_size][j+pad_size] = mat[i][j]\n",
        "  return pad"
      ],
      "metadata": {
        "id": "AjVpkCxErBI4"
      },
      "execution_count": 35,
      "outputs": []
    },
    {
      "cell_type": "code",
      "source": [
        "result = convolution(padding(mat_a, 1), kernel_b)\n",
        "print(result)"
      ],
      "metadata": {
        "colab": {
          "base_uri": "https://localhost:8080/"
        },
        "id": "7jPbof3xrqrm",
        "outputId": "f06d4cc0-552c-4368-c022-41e5a4aeeee8"
      },
      "execution_count": 43,
      "outputs": [
        {
          "output_type": "stream",
          "name": "stdout",
          "text": [
            "[[0, 0, 0, 0], [0, 4, 4, 0], [0, 5, 5, 0], [0, 1, 1, 0]]\n"
          ]
        }
      ]
    },
    {
      "cell_type": "markdown",
      "source": [
        "## Cau 2"
      ],
      "metadata": {
        "id": "ZEGdqpstu4uz"
      }
    },
    {
      "cell_type": "code",
      "source": [
        "kernel_c = [[0, 1, 0], [0,1,0], [0, 1, 0]]\n",
        "\n",
        "result = convolution(padding(mat_a, 1), kernel_c)\n",
        "print(result)"
      ],
      "metadata": {
        "colab": {
          "base_uri": "https://localhost:8080/"
        },
        "id": "PdyjWhzur_Nb",
        "outputId": "1218e44a-0659-427d-bcb2-6901f2136bff"
      },
      "execution_count": 47,
      "outputs": [
        {
          "output_type": "stream",
          "name": "stdout",
          "text": [
            "[[0, 4, 0], [0, 5, 0], [0, 5, 0]]\n"
          ]
        }
      ]
    },
    {
      "cell_type": "markdown",
      "source": [
        "# Max Pooling and Average Pooling"
      ],
      "metadata": {
        "id": "I5WBE3CmugUD"
      }
    },
    {
      "cell_type": "code",
      "source": [
        "mat_a = [[0, 0, 0, 4],\n",
        "         [0, 4, 0, 2],\n",
        "         [0, 1, 0, 2],\n",
        "         [0, 3, 0, 2]]"
      ],
      "metadata": {
        "id": "gJz1xwyuukL4"
      },
      "execution_count": 82,
      "outputs": []
    },
    {
      "cell_type": "markdown",
      "source": [
        "## Cau 1"
      ],
      "metadata": {
        "id": "mnkhrSUru1XZ"
      }
    },
    {
      "cell_type": "code",
      "source": [
        "def max_pooling(mat, pool_size):\n",
        "  result = []\n",
        "\n",
        "  for i in range(0, len(mat), pool_size):\n",
        "    row = []\n",
        "    for j in range(0, len(mat[0]), pool_size):\n",
        "      max_value = max([mat[x][y] for x in range(i, i+pool_size) for y in range(j, j+pool_size)])\n",
        "\n",
        "      row.append(max_value)\n",
        "    result.append(row)\n",
        "  return result"
      ],
      "metadata": {
        "id": "bJzMRxDqu4H9"
      },
      "execution_count": 73,
      "outputs": []
    },
    {
      "cell_type": "code",
      "source": [
        "max_pooling(mat_a, 2)"
      ],
      "metadata": {
        "colab": {
          "base_uri": "https://localhost:8080/"
        },
        "id": "_Bvj1BvXvOdM",
        "outputId": "98b25548-4046-47ed-b71a-e679ac7c523d"
      },
      "execution_count": 74,
      "outputs": [
        {
          "output_type": "execute_result",
          "data": {
            "text/plain": [
              "[[4, 4], [3, 2]]"
            ]
          },
          "metadata": {},
          "execution_count": 74
        }
      ]
    },
    {
      "cell_type": "markdown",
      "source": [
        "## Cau 2"
      ],
      "metadata": {
        "id": "KpKbiRB2yGja"
      }
    },
    {
      "cell_type": "code",
      "source": [
        "def average_pooling(mat, pool_size):\n",
        "  result = []\n",
        "\n",
        "  for i in range(0, len(mat), pool_size):\n",
        "    row = []\n",
        "    for j in range(0, len(mat[0]), pool_size):\n",
        "      ave_value = sum([mat[x][y] for x in range(i, i+pool_size) for y in range(j, j+pool_size)])/(pool_size**2)\n",
        "\n",
        "      row.append(ave_value)\n",
        "    result.append(row)\n",
        "  return result"
      ],
      "metadata": {
        "id": "tOywYOHcyHaM"
      },
      "execution_count": 78,
      "outputs": []
    },
    {
      "cell_type": "code",
      "source": [
        "average_pooling(mat_a, 2)"
      ],
      "metadata": {
        "colab": {
          "base_uri": "https://localhost:8080/"
        },
        "id": "2C36S6xzyiuF",
        "outputId": "672d573c-464d-46dd-ba5f-d2fcfe1360e1"
      },
      "execution_count": 83,
      "outputs": [
        {
          "output_type": "execute_result",
          "data": {
            "text/plain": [
              "[[1.0, 1.5], [1.0, 1.0]]"
            ]
          },
          "metadata": {},
          "execution_count": 83
        }
      ]
    }
  ]
}