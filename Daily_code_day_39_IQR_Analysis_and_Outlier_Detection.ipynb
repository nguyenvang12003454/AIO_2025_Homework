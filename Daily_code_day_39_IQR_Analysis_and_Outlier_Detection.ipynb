{
  "nbformat": 4,
  "nbformat_minor": 0,
  "metadata": {
    "colab": {
      "provenance": [],
      "authorship_tag": "ABX9TyNy65h+Td2O2yG0SpfaW1n+",
      "include_colab_link": true
    },
    "kernelspec": {
      "name": "python3",
      "display_name": "Python 3"
    },
    "language_info": {
      "name": "python"
    }
  },
  "cells": [
    {
      "cell_type": "markdown",
      "metadata": {
        "id": "view-in-github",
        "colab_type": "text"
      },
      "source": [
        "<a href=\"https://colab.research.google.com/github/nguyenvang12003454/AIO_2025_Homework/blob/main/Daily_code_day_39_IQR_Analysis_and_Outlier_Detection.ipynb\" target=\"_parent\"><img src=\"https://colab.research.google.com/assets/colab-badge.svg\" alt=\"Open In Colab\"/></a>"
      ]
    },
    {
      "cell_type": "markdown",
      "source": [
        "# IQR Analysis and Outlier Detection"
      ],
      "metadata": {
        "id": "6b9cH5UVFbCE"
      }
    },
    {
      "cell_type": "markdown",
      "source": [
        "## 1. Compute IQR"
      ],
      "metadata": {
        "id": "ELuRm2XHF7O_"
      }
    },
    {
      "cell_type": "code",
      "execution_count": 26,
      "metadata": {
        "colab": {
          "base_uri": "https://localhost:8080/"
        },
        "id": "MkM3d5XyFYDp",
        "outputId": "e49d22ca-7247-4d79-914a-150009b6b1d8"
      },
      "outputs": [
        {
          "output_type": "stream",
          "name": "stdout",
          "text": [
            "[3, 5, 7, 8, 12, 13, 14, 18, 21, 100]\n"
          ]
        }
      ],
      "source": [
        "import numpy as np\n",
        "\n",
        "data = [3, 7, 8, 5, 12, 14, 21, 13, 18, 100]\n",
        "data.sort()\n",
        "print(data)"
      ]
    },
    {
      "cell_type": "code",
      "source": [
        "q1 = np.percentile(data, 25)\n",
        "q2 = np.percentile(data, 50)\n",
        "q3 = np.percentile(data, 75)\n",
        "\n",
        "upper_bound = q3 + 1.5 * (q3 - q1)\n",
        "lower_bound = q1 - 1.5 * (q3 - q1)\n",
        "\n",
        "iqr = q3-q1\n",
        "\n",
        "print(q1, q2, q3, iqr)"
      ],
      "metadata": {
        "colab": {
          "base_uri": "https://localhost:8080/"
        },
        "id": "U0QlwbNxGJ9X",
        "outputId": "eb589fb6-4b96-4755-ac9e-f7d97dad298c"
      },
      "execution_count": 27,
      "outputs": [
        {
          "output_type": "stream",
          "name": "stdout",
          "text": [
            "7.25 12.5 17.0 9.75\n"
          ]
        }
      ]
    },
    {
      "cell_type": "code",
      "source": [
        "# Find Outliers\n",
        "def find_outliers(data):\n",
        "    q1 = np.percentile(data, 25)\n",
        "    q3 = np.percentile(data, 75)\n",
        "    iqr = q3 - q1\n",
        "    lower_bound = q1 - 1.5 * iqr\n",
        "    upper_bound = q3 + 1.5 * iqr\n",
        "    outliers = [x for x in data if x < lower_bound or x > upper_bound]\n",
        "    return outliers\n",
        "\n",
        "outliers = find_outliers(data)\n",
        "print(outliers)"
      ],
      "metadata": {
        "colab": {
          "base_uri": "https://localhost:8080/"
        },
        "id": "KNKfpGEIH2Lv",
        "outputId": "881a422a-9101-4fcf-d42e-c6e9172d7857"
      },
      "execution_count": 28,
      "outputs": [
        {
          "output_type": "stream",
          "name": "stdout",
          "text": [
            "[100]\n"
          ]
        }
      ]
    },
    {
      "cell_type": "markdown",
      "source": [
        "## 2. Outliers Removal"
      ],
      "metadata": {
        "id": "Mv5s69DEIO5A"
      }
    },
    {
      "cell_type": "code",
      "source": [
        "import pandas as pd\n",
        "\n",
        "df = pd.DataFrame({'score': [55, 61, 70, 65, 68, 90, 91, 94, 300, 58]})\n",
        "\n",
        "print(df)"
      ],
      "metadata": {
        "colab": {
          "base_uri": "https://localhost:8080/"
        },
        "id": "azPF0WRGIXBt",
        "outputId": "e7563ae7-58a3-4cee-a4fb-c2c93b26b173"
      },
      "execution_count": 30,
      "outputs": [
        {
          "output_type": "stream",
          "name": "stdout",
          "text": [
            "   score\n",
            "0     55\n",
            "1     61\n",
            "2     70\n",
            "3     65\n",
            "4     68\n",
            "5     90\n",
            "6     91\n",
            "7     94\n",
            "8    300\n",
            "9     58\n"
          ]
        }
      ]
    },
    {
      "cell_type": "code",
      "source": [
        "# Find Outliers\n",
        "def find_outliers(data):\n",
        "    q1 = np.percentile(data, 25)\n",
        "    q3 = np.percentile(data, 75)\n",
        "    iqr = q3 - q1\n",
        "    lower_bound = q1 - 1.5 * iqr\n",
        "    upper_bound = q3 + 1.5 * iqr\n",
        "    outliers = [x for x in data if x < lower_bound or x > upper_bound]\n",
        "    return outliers, iqr\n",
        "\n",
        "outliers = find_outliers(df['score'])[0]\n",
        "iqr = find_outliers(df['score'])[1]\n",
        "\n",
        "print(iqr)\n",
        "print(outliers)"
      ],
      "metadata": {
        "colab": {
          "base_uri": "https://localhost:8080/"
        },
        "id": "TpueOMtPIqsZ",
        "outputId": "3daa2d3c-4a7f-43d0-e227-8a1ff1e44ea7"
      },
      "execution_count": 34,
      "outputs": [
        {
          "output_type": "stream",
          "name": "stdout",
          "text": [
            "28.75\n",
            "[300]\n"
          ]
        }
      ]
    },
    {
      "cell_type": "code",
      "source": [
        "df_new = df[~df['score'].isin(outliers)]\n",
        "print(df_new)"
      ],
      "metadata": {
        "colab": {
          "base_uri": "https://localhost:8080/"
        },
        "id": "hjwgGVHQJELn",
        "outputId": "34adba6f-318d-4122-b2b7-64ef8b2b4ad7"
      },
      "execution_count": 35,
      "outputs": [
        {
          "output_type": "stream",
          "name": "stdout",
          "text": [
            "   score\n",
            "0     55\n",
            "1     61\n",
            "2     70\n",
            "3     65\n",
            "4     68\n",
            "5     90\n",
            "6     91\n",
            "7     94\n",
            "9     58\n"
          ]
        }
      ]
    }
  ]
}