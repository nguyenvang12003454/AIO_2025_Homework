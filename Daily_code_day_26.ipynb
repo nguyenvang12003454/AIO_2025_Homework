{
  "nbformat": 4,
  "nbformat_minor": 0,
  "metadata": {
    "colab": {
      "provenance": [],
      "authorship_tag": "ABX9TyOvaV5/bHrv9KrSflVf7x72",
      "include_colab_link": true
    },
    "kernelspec": {
      "name": "python3",
      "display_name": "Python 3"
    },
    "language_info": {
      "name": "python"
    }
  },
  "cells": [
    {
      "cell_type": "markdown",
      "metadata": {
        "id": "view-in-github",
        "colab_type": "text"
      },
      "source": [
        "<a href=\"https://colab.research.google.com/github/nguyenvang12003454/AIO_2025_Homework/blob/main/Daily_code_day_26.ipynb\" target=\"_parent\"><img src=\"https://colab.research.google.com/assets/colab-badge.svg\" alt=\"Open In Colab\"/></a>"
      ]
    },
    {
      "cell_type": "markdown",
      "source": [
        "# Naive Bayes"
      ],
      "metadata": {
        "id": "Ozh0ESUGNkuz"
      }
    },
    {
      "cell_type": "code",
      "execution_count": 1,
      "metadata": {
        "id": "TjzBT4T-Ngr8"
      },
      "outputs": [],
      "source": [
        "# Library\n",
        "import numpy as np\n",
        "import pandas as pd"
      ]
    },
    {
      "cell_type": "code",
      "source": [
        "# Data training\n",
        "data = pd.DataFrame({\n",
        "    \"Sốt\": [\"Cao\", \"Cao\", \"Cao\", \"Thấp\", \"Cao\", \"Thấp\", \"Thấp\", \"Cao\", \"Thấp\", \"Cao\"],\n",
        "    \"Ho\": [\"Có\", \"Không\", \"Có\", \"Có\", \"Có\", \"Không\", \"Có\", \"Không\", \"Không\", \"Có\"],\n",
        "    \"Đau họng\": [\"Có\", \"Có\", \"Không\", \"Có\", \"Có\", \"Có\", \"Không\", \"Có\", \"Không\", \"Có\"],\n",
        "    \"Mệt mỏi\": [\"Có\", \"Không\", \"Có\", \"Có\", \"Không\", \"Không\", \"Có\", \"Có\", \"Không\", \"Có\"],\n",
        "    \"Flu\": [\"Có\", \"Có\", \"Có\", \"Không\", \"Có\", \"Không\", \"Không\", \"Có\", \"Không\", \"Có\"]\n",
        "})\n",
        "\n",
        "# Patient data to be predicted\n",
        "new_patient = {\"Sốt\": \"Cao\", \"Ho\": \"Có\", \"Đau họng\": \"Có\", \"Mệt mỏi\": \"Không\"}"
      ],
      "metadata": {
        "id": "Dg3axjZDQnAZ"
      },
      "execution_count": 2,
      "outputs": []
    },
    {
      "cell_type": "code",
      "source": [
        "print(data)"
      ],
      "metadata": {
        "colab": {
          "base_uri": "https://localhost:8080/"
        },
        "id": "V4Po6MqRQ2_B",
        "outputId": "c6f5954d-5ba0-426a-d9b7-07afa1896e74"
      },
      "execution_count": 3,
      "outputs": [
        {
          "output_type": "stream",
          "name": "stdout",
          "text": [
            "    Sốt     Ho Đau họng Mệt mỏi    Flu\n",
            "0   Cao     Có       Có      Có     Có\n",
            "1   Cao  Không       Có   Không     Có\n",
            "2   Cao     Có    Không      Có     Có\n",
            "3  Thấp     Có       Có      Có  Không\n",
            "4   Cao     Có       Có   Không     Có\n",
            "5  Thấp  Không       Có   Không  Không\n",
            "6  Thấp     Có    Không      Có  Không\n",
            "7   Cao  Không       Có      Có     Có\n",
            "8  Thấp  Không    Không   Không  Không\n",
            "9   Cao     Có       Có      Có     Có\n"
          ]
        }
      ]
    },
    {
      "cell_type": "code",
      "source": [
        "print(new_patient)"
      ],
      "metadata": {
        "colab": {
          "base_uri": "https://localhost:8080/"
        },
        "id": "BTOXJu0URvDq",
        "outputId": "74d23c97-99e5-4a13-8b59-9abb52e4b696"
      },
      "execution_count": 4,
      "outputs": [
        {
          "output_type": "stream",
          "name": "stdout",
          "text": [
            "{'Sốt': 'Cao', 'Ho': 'Có', 'Đau họng': 'Có', 'Mệt mỏi': 'Không'}\n"
          ]
        }
      ]
    },
    {
      "cell_type": "code",
      "source": [
        "# Calculate the prior probability P(C)\n",
        "P_flu = data[\"Flu\"].value_counts(normalize=True)[\"Có\"]\n",
        "P_no_flu = data[\"Flu\"].value_counts(normalize=True)[\"Không\"]\n",
        "\n",
        "print(P_flu)\n",
        "print(P_no_flu)\n"
      ],
      "metadata": {
        "id": "__SGR584RzIr",
        "colab": {
          "base_uri": "https://localhost:8080/"
        },
        "outputId": "543d1d2b-41d1-4a77-d0e8-73d231fec333"
      },
      "execution_count": 7,
      "outputs": [
        {
          "output_type": "stream",
          "name": "stdout",
          "text": [
            "0.6\n",
            "0.4\n"
          ]
        }
      ]
    },
    {
      "cell_type": "code",
      "source": [
        "# Conditional probability function P(x_i|C) with Laplace smoothing\n",
        "def conditional_pro(feature, value, flu_status):\n",
        "  subset = data[data[\"Flu\"] == flu_status]\n",
        "  count_feature = len(subset[subset[feature] == value]) + k\n",
        "  count_target = len(subset) + m*k\n",
        "\n",
        "  return count_feature / count_target\n",
        "\n",
        "m=2\n",
        "k=1"
      ],
      "metadata": {
        "id": "76mJtQYpmCIV"
      },
      "execution_count": 10,
      "outputs": []
    },
    {
      "cell_type": "code",
      "source": [
        "# Compute conditional probability P(x_i|C) with Naive Bayes\n",
        "P_x_given_flu = 1\n",
        "P_x_given_no_flu = 1\n",
        "\n",
        "for feature, value in new_patient.items():\n",
        "  P_x_given_flu *= conditional_pro(feature, value, \"Có\")\n",
        "  P_x_given_no_flu *= conditional_pro(feature, value, \"Không\")"
      ],
      "metadata": {
        "id": "Hqay_Qt_oGTz"
      },
      "execution_count": 12,
      "outputs": []
    },
    {
      "cell_type": "code",
      "source": [
        "# Compute P(C|X)\n",
        "P_flu_given_x = P_x_given_flu * P_flu\n",
        "P_no_flu_given_x = P_x_given_no_flu * P_no_flu"
      ],
      "metadata": {
        "id": "eqjrB0e6o6V7"
      },
      "execution_count": 13,
      "outputs": []
    },
    {
      "cell_type": "code",
      "source": [
        "# Normalize probability\n",
        "total = P_flu_given_x + P_no_flu_given_x\n",
        "P_flu_given_x /= total\n",
        "P_no_flu_given_x /= total"
      ],
      "metadata": {
        "id": "at_n8cj8pKwh"
      },
      "execution_count": 14,
      "outputs": []
    },
    {
      "cell_type": "code",
      "source": [
        "print(\"\\nKết quả Naive Bayes:\")\n",
        "print(f\"P(Flu=Có|X) = {P_flu_given_x:.4f}\")\n",
        "print(f\"P(Flu=Không|X) = {P_no_flu_given_x:.4f}\")\n",
        "\n",
        "# Kết luận\n",
        "print(\"\\nKết luận:\", \"Bệnh nhân có khả năng bị cúm.\" if P_flu_given_x > P_no_flu_given_x else \"Bệnh nhân KHÔNG có khả năng bị cúm.\")"
      ],
      "metadata": {
        "colab": {
          "base_uri": "https://localhost:8080/"
        },
        "id": "TsQAYrzzpU0V",
        "outputId": "32d36b18-9879-4f21-ebe6-2438d180c1f4"
      },
      "execution_count": 16,
      "outputs": [
        {
          "output_type": "stream",
          "name": "stdout",
          "text": [
            "\n",
            "Kết quả Naive Bayes:\n",
            "P(Flu=Có|X) = 0.9172\n",
            "P(Flu=Không|X) = 0.0828\n",
            "\n",
            "Kết luận: Bệnh nhân có khả năng bị cúm.\n"
          ]
        }
      ]
    }
  ]
}