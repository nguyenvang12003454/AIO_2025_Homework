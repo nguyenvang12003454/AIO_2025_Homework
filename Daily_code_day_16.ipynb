{
  "nbformat": 4,
  "nbformat_minor": 0,
  "metadata": {
    "colab": {
      "provenance": [],
      "authorship_tag": "ABX9TyMZV2pJCqJS2sU1R178tL02",
      "include_colab_link": true
    },
    "kernelspec": {
      "name": "python3",
      "display_name": "Python 3"
    },
    "language_info": {
      "name": "python"
    }
  },
  "cells": [
    {
      "cell_type": "markdown",
      "metadata": {
        "id": "view-in-github",
        "colab_type": "text"
      },
      "source": [
        "<a href=\"https://colab.research.google.com/github/nguyenvang12003454/AIO_2025_Homework/blob/main/Daily_code_day_16.ipynb\" target=\"_parent\"><img src=\"https://colab.research.google.com/assets/colab-badge.svg\" alt=\"Open In Colab\"/></a>"
      ]
    },
    {
      "cell_type": "markdown",
      "source": [
        "# Numpy - Gram Matrix in Style transfer"
      ],
      "metadata": {
        "id": "K0uusFAktmsS"
      }
    },
    {
      "cell_type": "markdown",
      "source": [
        "## Compute Gram Matrix from Feature Map"
      ],
      "metadata": {
        "id": "PN77o2msxSw_"
      }
    },
    {
      "cell_type": "code",
      "source": [
        "import numpy as np"
      ],
      "metadata": {
        "id": "tV7M6d_bum2N"
      },
      "execution_count": null,
      "outputs": []
    },
    {
      "cell_type": "code",
      "execution_count": null,
      "metadata": {
        "id": "pcQPU3QIacc_"
      },
      "outputs": [],
      "source": [
        "def compute_gram_matrix(feature_map: np.ndarray) -> np.ndarray:\n",
        "  C, H, W = feature_map.shape\n",
        "  F = feature_map.reshape(C, H * W)\n",
        "  return np.dot(F, F.T) / (H * W)"
      ]
    },
    {
      "cell_type": "code",
      "source": [
        "# Feature map input\n",
        "feature_map = np.array([\n",
        "    [[1, 2], [3, 4]],\n",
        "    [[5, 6], [7, 8]],\n",
        "    [[9, 10], [11, 12]]\n",
        "])"
      ],
      "metadata": {
        "id": "2ficHfp2yMZi"
      },
      "execution_count": null,
      "outputs": []
    },
    {
      "cell_type": "code",
      "source": [
        "# Compute Gram Matrix\n",
        "gram_matrix = compute_gram_matrix(feature_map)\n",
        "print(gram_matrix)"
      ],
      "metadata": {
        "colab": {
          "base_uri": "https://localhost:8080/"
        },
        "id": "2fJ_wDNOyg6Z",
        "outputId": "a42d634a-bc86-4d50-9c7f-322078eecee2"
      },
      "execution_count": null,
      "outputs": [
        {
          "output_type": "stream",
          "name": "stdout",
          "text": [
            "[[  7.5  17.5  27.5]\n",
            " [ 17.5  43.5  69.5]\n",
            " [ 27.5  69.5 111.5]]\n"
          ]
        }
      ]
    },
    {
      "cell_type": "markdown",
      "source": [
        "## Measure similarity between 2 images using Gram Matrix"
      ],
      "metadata": {
        "id": "yid9pdikysv2"
      }
    },
    {
      "cell_type": "code",
      "source": [
        "def compute_similarity(gram1: np.ndarray, gram2: np.ndarray) -> float:\n",
        "  numerator = np.sum(gram1*gram2)\n",
        "  denominator = np.sqrt(np.sum(gram1**2))*np.sqrt(np.sum(gram2**2))\n",
        "\n",
        "  return numerator/denominator"
      ],
      "metadata": {
        "id": "CdH9_ez7yzKp"
      },
      "execution_count": null,
      "outputs": []
    },
    {
      "cell_type": "code",
      "source": [
        "# Feature map input\n",
        "feature_map1 = np.array([\n",
        "    [[1, 2], [3, 4]],\n",
        "    [[5, 6], [7, 8]],\n",
        "    [[9, 10], [11, 12]]\n",
        "])\n",
        "\n",
        "feature_map2 = np.array([\n",
        "    [[2, 4], [6, 8]],\n",
        "    [[1, 3], [5, 7]],\n",
        "    [[0, 2], [4, 6]]\n",
        "])"
      ],
      "metadata": {
        "id": "ZRAJB-YO0gfN"
      },
      "execution_count": null,
      "outputs": []
    },
    {
      "cell_type": "code",
      "source": [
        "# Compute Gram Matrix\n",
        "gram_matrix1 = compute_gram_matrix(feature_map1)\n",
        "gram_matrix2 = compute_gram_matrix(feature_map2)\n",
        "\n",
        "print(gram_matrix1)\n",
        "print(gram_matrix2)"
      ],
      "metadata": {
        "colab": {
          "base_uri": "https://localhost:8080/"
        },
        "id": "MKvTGQy10v-L",
        "outputId": "0646f86c-7254-4077-a103-72d506f11581"
      },
      "execution_count": null,
      "outputs": [
        {
          "output_type": "stream",
          "name": "stdout",
          "text": [
            "[[  7.5  17.5  27.5]\n",
            " [ 17.5  43.5  69.5]\n",
            " [ 27.5  69.5 111.5]]\n",
            "[[30. 25. 20.]\n",
            " [25. 21. 17.]\n",
            " [20. 17. 14.]]\n"
          ]
        }
      ]
    },
    {
      "cell_type": "code",
      "source": [
        "# Compute similarity\n",
        "similarity = compute_similarity(gram_matrix1, gram_matrix2)\n",
        "print(similarity)"
      ],
      "metadata": {
        "id": "i4dqxn5t031J",
        "outputId": "547d90d5-2763-4d6a-b802-81129105f5d5",
        "colab": {
          "base_uri": "https://localhost:8080/"
        }
      },
      "execution_count": null,
      "outputs": [
        {
          "output_type": "stream",
          "name": "stdout",
          "text": [
            "0.6741245785155123\n"
          ]
        }
      ]
    }
  ]
}