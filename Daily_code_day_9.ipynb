{
  "nbformat": 4,
  "nbformat_minor": 0,
  "metadata": {
    "colab": {
      "provenance": [],
      "authorship_tag": "ABX9TyNbSXAfVXtaVvQ5zWo0QZJZ",
      "include_colab_link": true
    },
    "kernelspec": {
      "name": "python3",
      "display_name": "Python 3"
    },
    "language_info": {
      "name": "python"
    }
  },
  "cells": [
    {
      "cell_type": "markdown",
      "metadata": {
        "id": "view-in-github",
        "colab_type": "text"
      },
      "source": [
        "<a href=\"https://colab.research.google.com/github/nguyenvang12003454/AIO_2025_Homework/blob/main/Daily_code_day_9.ipynb\" target=\"_parent\"><img src=\"https://colab.research.google.com/assets/colab-badge.svg\" alt=\"Open In Colab\"/></a>"
      ]
    },
    {
      "cell_type": "markdown",
      "source": [
        "# Computing median for a list of numbers"
      ],
      "metadata": {
        "id": "hFlklkjsu8on"
      }
    },
    {
      "cell_type": "code",
      "execution_count": null,
      "metadata": {
        "id": "DrgEWwhw2Ufi",
        "colab": {
          "base_uri": "https://localhost:8080/"
        },
        "outputId": "32cc5cba-3c33-4254-cf2e-5ad6a67b664a"
      },
      "outputs": [
        {
          "output_type": "stream",
          "name": "stdout",
          "text": [
            "[1, 2, 3, 4, 5, 6, 7, 8, 9, 10]\n"
          ]
        }
      ],
      "source": [
        "lst_data = [i for i in range(1, 11)]\n",
        "\n",
        "print(lst_data)"
      ]
    },
    {
      "cell_type": "code",
      "source": [
        "lst_data.sort()\n",
        "n = len(lst_data)\n",
        "median = 0\n",
        "\n",
        "if n % 2 == 0:\n",
        "  median = (lst_data[n//2] + lst_data[(n//2-1)])/2\n",
        "else:\n",
        "  median = lst_data_sort[(n+1)/2 - 1]\n",
        "\n",
        "print('Median:', median)"
      ],
      "metadata": {
        "colab": {
          "base_uri": "https://localhost:8080/"
        },
        "id": "xuCN4Y4uvObr",
        "outputId": "5fb69c0b-3afd-4ffd-ab8f-2d33dc41ed2b"
      },
      "execution_count": null,
      "outputs": [
        {
          "output_type": "stream",
          "name": "stdout",
          "text": [
            "Median: 5.5\n"
          ]
        }
      ]
    },
    {
      "cell_type": "code",
      "source": [
        "lst_odd_filter = [i for i in lst_data if i%2!=0]\n",
        "lst_odd_filter.sort(reverse=True)\n",
        "\n",
        "print(lst_odd_filter)"
      ],
      "metadata": {
        "colab": {
          "base_uri": "https://localhost:8080/"
        },
        "id": "tMaxTmldwDBf",
        "outputId": "0e7e913c-695c-4d7c-d1ee-76087be2598b"
      },
      "execution_count": null,
      "outputs": [
        {
          "output_type": "stream",
          "name": "stdout",
          "text": [
            "[9, 7, 5, 3, 1]\n"
          ]
        }
      ]
    },
    {
      "cell_type": "markdown",
      "source": [
        "# Computing mean for a list of numbers"
      ],
      "metadata": {
        "id": "749ZlUWOxr0O"
      }
    },
    {
      "cell_type": "code",
      "source": [
        "lst_data = [i for i in range(1, 11)]\n",
        "\n",
        "print(lst_data)"
      ],
      "metadata": {
        "colab": {
          "base_uri": "https://localhost:8080/"
        },
        "id": "LTFsR9WPxstl",
        "outputId": "69a64b14-a928-4184-fcbb-ac64b240f918"
      },
      "execution_count": null,
      "outputs": [
        {
          "output_type": "stream",
          "name": "stdout",
          "text": [
            "[1, 2, 3, 4, 5, 6, 7, 8, 9, 10]\n"
          ]
        }
      ]
    },
    {
      "cell_type": "code",
      "source": [
        "lst_odd = [i for i in lst_data if i%2!=0]\n",
        "lst_even = [i for i in lst_data if i%2==0]\n",
        "\n",
        "def compute_mean(lst):\n",
        "  return sum(lst)/len(lst)\n",
        "\n",
        "print('Mean of odd numbers:', compute_mean(lst_odd))\n",
        "print('Mean of even numbers:', compute_mean(lst_even))"
      ],
      "metadata": {
        "colab": {
          "base_uri": "https://localhost:8080/"
        },
        "id": "TiD2a6XAxzzq",
        "outputId": "122a79ea-dae8-4b9e-e452-d983db17ae3a"
      },
      "execution_count": null,
      "outputs": [
        {
          "output_type": "stream",
          "name": "stdout",
          "text": [
            "Mean of odd numbers: 5.0\n",
            "Mean of even numbers: 6.0\n"
          ]
        }
      ]
    },
    {
      "cell_type": "code",
      "source": [
        "print('Mean of all numbers:', compute_mean(lst_data))\n",
        "print('Median of all numbers:', median)"
      ],
      "metadata": {
        "colab": {
          "base_uri": "https://localhost:8080/"
        },
        "id": "qcd_FsUWya1u",
        "outputId": "f59b53f1-2971-4641-ae03-2a80c1aa3330"
      },
      "execution_count": null,
      "outputs": [
        {
          "output_type": "stream",
          "name": "stdout",
          "text": [
            "Mean of all numbers: 5.5\n",
            "Median of all numbers: 5.5\n"
          ]
        }
      ]
    }
  ]
}