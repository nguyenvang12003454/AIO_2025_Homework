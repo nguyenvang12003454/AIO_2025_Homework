{
  "nbformat": 4,
  "nbformat_minor": 0,
  "metadata": {
    "colab": {
      "provenance": [],
      "authorship_tag": "ABX9TyNOyff9Ge5zO7UH+qP69eeP",
      "include_colab_link": true
    },
    "kernelspec": {
      "name": "python3",
      "display_name": "Python 3"
    },
    "language_info": {
      "name": "python"
    }
  },
  "cells": [
    {
      "cell_type": "markdown",
      "metadata": {
        "id": "view-in-github",
        "colab_type": "text"
      },
      "source": [
        "<a href=\"https://colab.research.google.com/github/nguyenvang12003454/AIO_2025_Homework/blob/main/Daily_code_day_10.ipynb\" target=\"_parent\"><img src=\"https://colab.research.google.com/assets/colab-badge.svg\" alt=\"Open In Colab\"/></a>"
      ]
    },
    {
      "cell_type": "markdown",
      "source": [
        "# Practice with List - Positional Embedding"
      ],
      "metadata": {
        "id": "4wf6naxDzjR1"
      }
    },
    {
      "cell_type": "code",
      "source": [
        "import math\n",
        "import numpy as np"
      ],
      "metadata": {
        "id": "aN91UDjY2WL8"
      },
      "execution_count": 15,
      "outputs": []
    },
    {
      "cell_type": "code",
      "execution_count": 12,
      "metadata": {
        "id": "GfF1WEqOzAbc"
      },
      "outputs": [],
      "source": [
        "def create_position_matrix(seq_length, embed_size):\n",
        "  position_matrix = [[0 for _ in range(embed_size)] for _ in range(seq_length)]\n",
        "\n",
        "  for i in range(seq_length):\n",
        "    for j in range(embed_size):\n",
        "      if i%2 == 0:\n",
        "        position_matrix[i][j] = math.sin(i/(10000**(2*j/(embed_size))))\n",
        "      else:\n",
        "        position_matrix[i][j] = math.cos(i/(10000**(2*j/(embed_size))))\n",
        "\n",
        "  return position_matrix\n"
      ]
    },
    {
      "cell_type": "code",
      "source": [
        "seq_length = 10\n",
        "embed_size = 16\n",
        "\n",
        "position_matrix = create_position_matrix(seq_length, embed_size)\n",
        "print(np.array(position_matrix))"
      ],
      "metadata": {
        "colab": {
          "base_uri": "https://localhost:8080/"
        },
        "id": "fxl5Bnt31KUG",
        "outputId": "a5759925-6011-46f4-be70-503624663539"
      },
      "execution_count": 16,
      "outputs": [
        {
          "output_type": "stream",
          "name": "stdout",
          "text": [
            "[[ 0.00000000e+00  0.00000000e+00  0.00000000e+00  0.00000000e+00\n",
            "   0.00000000e+00  0.00000000e+00  0.00000000e+00  0.00000000e+00\n",
            "   0.00000000e+00  0.00000000e+00  0.00000000e+00  0.00000000e+00\n",
            "   0.00000000e+00  0.00000000e+00  0.00000000e+00  0.00000000e+00]\n",
            " [ 5.40302306e-01  9.50415280e-01  9.95004165e-01  9.99500042e-01\n",
            "   9.99950000e-01  9.99995000e-01  9.99999500e-01  9.99999950e-01\n",
            "   9.99999995e-01  9.99999999e-01  1.00000000e+00  1.00000000e+00\n",
            "   1.00000000e+00  1.00000000e+00  1.00000000e+00  1.00000000e+00]\n",
            " [ 9.09297427e-01  5.91127117e-01  1.98669331e-01  6.32033979e-02\n",
            "   1.99986667e-02  6.32451316e-03  1.99999867e-03  6.32455490e-04\n",
            "   1.99999999e-04  6.32455532e-05  2.00000000e-05  6.32455532e-06\n",
            "   2.00000000e-06  6.32455532e-07  2.00000000e-07  6.32455532e-08]\n",
            " [-9.89992497e-01  5.82753611e-01  9.55336489e-01  9.95503374e-01\n",
            "   9.99550034e-01  9.99955000e-01  9.99995500e-01  9.99999550e-01\n",
            "   9.99999955e-01  9.99999995e-01  1.00000000e+00  1.00000000e+00\n",
            "   1.00000000e+00  1.00000000e+00  1.00000000e+00  1.00000000e+00]\n",
            " [-7.56802495e-01  9.53580740e-01  3.89418342e-01  1.26154067e-01\n",
            "   3.99893342e-02  1.26487733e-02  3.99998933e-03  1.26491073e-03\n",
            "   3.99999989e-04  1.26491106e-04  4.00000000e-05  1.26491106e-05\n",
            "   4.00000000e-06  1.26491106e-06  4.00000000e-07  1.26491106e-07]\n",
            " [ 2.83662185e-01 -1.03423189e-02  8.77582562e-01  9.87526020e-01\n",
            "   9.98750260e-01  9.99875003e-01  9.99987500e-01  9.99998750e-01\n",
            "   9.99999875e-01  9.99999988e-01  9.99999999e-01  1.00000000e+00\n",
            "   1.00000000e+00  1.00000000e+00  1.00000000e+00  1.00000000e+00]\n",
            " [-2.79415498e-01  9.47148158e-01  5.64642473e-01  1.88600287e-01\n",
            "   5.99640065e-02  1.89725276e-02  5.99996400e-03  1.89736546e-03\n",
            "   5.99999964e-04  1.89736658e-04  6.00000000e-05  1.89736660e-05\n",
            "   6.00000000e-06  1.89736660e-06  6.00000000e-07  1.89736660e-07]\n",
            " [ 7.53902254e-01 -5.99437393e-01  7.64842187e-01  9.75599878e-01\n",
            "   9.97551000e-01  9.99755010e-01  9.99975500e-01  9.99997550e-01\n",
            "   9.99999755e-01  9.99999976e-01  9.99999998e-01  1.00000000e+00\n",
            "   1.00000000e+00  1.00000000e+00  1.00000000e+00  1.00000000e+00]\n",
            " [ 9.89358247e-01  5.74317769e-01  7.17356091e-01  2.50292358e-01\n",
            "   7.99146940e-02  2.52955229e-02  7.99991467e-03  2.52981943e-03\n",
            "   7.99999915e-04  2.52982210e-04  7.99999999e-05  2.52982213e-05\n",
            "   8.00000000e-06  2.52982213e-06  8.00000000e-07  2.52982213e-07]\n",
            " [-9.11130262e-01 -9.56644200e-01  6.21609968e-01  9.59772638e-01\n",
            "   9.95952733e-01  9.99595027e-01  9.99959500e-01  9.99995950e-01\n",
            "   9.99999595e-01  9.99999960e-01  9.99999996e-01  1.00000000e+00\n",
            "   1.00000000e+00  1.00000000e+00  1.00000000e+00  1.00000000e+00]]\n"
          ]
        }
      ]
    }
  ]
}