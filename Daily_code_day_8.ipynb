{
  "nbformat": 4,
  "nbformat_minor": 0,
  "metadata": {
    "colab": {
      "provenance": [],
      "authorship_tag": "ABX9TyNtrcSfG+iyJ7OUlzMP9kv3",
      "include_colab_link": true
    },
    "kernelspec": {
      "name": "python3",
      "display_name": "Python 3"
    },
    "language_info": {
      "name": "python"
    }
  },
  "cells": [
    {
      "cell_type": "markdown",
      "metadata": {
        "id": "view-in-github",
        "colab_type": "text"
      },
      "source": [
        "<a href=\"https://colab.research.google.com/github/nguyenvang12003454/AIO_2025_Homework/blob/main/Daily_code_day_8.ipynb\" target=\"_parent\"><img src=\"https://colab.research.google.com/assets/colab-badge.svg\" alt=\"Open In Colab\"/></a>"
      ]
    },
    {
      "cell_type": "markdown",
      "source": [
        "# List and Tuple"
      ],
      "metadata": {
        "id": "9V6X8ZxFcwH9"
      }
    },
    {
      "cell_type": "code",
      "source": [
        "# Create 2 tuple\n",
        "my_tuple1 = (2, 3)\n",
        "my_tuple2 = (3, 6)"
      ],
      "metadata": {
        "id": "9AkRa1KddFin"
      },
      "execution_count": 4,
      "outputs": []
    },
    {
      "cell_type": "code",
      "source": [
        "# Print sum and product of 2 vectors\n",
        "def sum_product(tuple):\n",
        "  sum = 0\n",
        "  product = 1\n",
        "\n",
        "  for i in range(len(tuple)):\n",
        "    sum += tuple[i]\n",
        "    product *= tuple[i]\n",
        "\n",
        "  return sum, product\n",
        "\n",
        "print('Result_vector1 = ', sum_product(my_tuple1))\n",
        "print('Result_vector2 = ', sum_product(my_tuple2))"
      ],
      "metadata": {
        "colab": {
          "base_uri": "https://localhost:8080/"
        },
        "id": "i00CxL4fdN4f",
        "outputId": "43ed5fd2-8c52-4946-c0f2-0e37ef14d3d1"
      },
      "execution_count": 6,
      "outputs": [
        {
          "output_type": "stream",
          "name": "stdout",
          "text": [
            "Result_vector1 =  (5, 6)\n",
            "Result_vector2 =  (9, 18)\n"
          ]
        }
      ]
    },
    {
      "cell_type": "code",
      "source": [
        "# Print distance of 2 vectors\n",
        "import math\n",
        "\n",
        "def distance(tuple1, tuple2):\n",
        "  distance = 0\n",
        "\n",
        "  for i in range(len(tuple1)):\n",
        "    distance += (tuple1[i] -tuple2[i])**2\n",
        "\n",
        "  distance = math.sqrt(distance)\n",
        "  return distance\n",
        "\n",
        "print('Distance = ', distance(my_tuple1, my_tuple2))"
      ],
      "metadata": {
        "colab": {
          "base_uri": "https://localhost:8080/"
        },
        "id": "4skui26VfZxK",
        "outputId": "2a5a332a-eea4-4535-b99a-028621efaabd"
      },
      "execution_count": 8,
      "outputs": [
        {
          "output_type": "stream",
          "name": "stdout",
          "text": [
            "Distance =  3.1622776601683795\n"
          ]
        }
      ]
    },
    {
      "cell_type": "code",
      "source": [
        "# Print position of element_value = 3\n",
        "index = (my_tuple1.index(3), my_tuple2.index(3))\n",
        "print('index =', index)"
      ],
      "metadata": {
        "colab": {
          "base_uri": "https://localhost:8080/"
        },
        "id": "1n2ZSJ_xgEbw",
        "outputId": "cd9590df-09c8-4a90-96eb-c703fef3ba4f"
      },
      "execution_count": 11,
      "outputs": [
        {
          "output_type": "stream",
          "name": "stdout",
          "text": [
            "index = (1, 0)\n"
          ]
        }
      ]
    },
    {
      "cell_type": "markdown",
      "source": [
        "# Bag of Words (NLP)"
      ],
      "metadata": {
        "id": "x6YnxVpAg930"
      }
    },
    {
      "cell_type": "code",
      "source": [
        "# Dataset\n",
        "corpus = [\"Tôi thích môn Toán\", \"Tôi thích AI\", \"Tôi thích âm nhạc\"]\n",
        "\n",
        "data = ' '.join(corpus)\n",
        "print(data)"
      ],
      "metadata": {
        "colab": {
          "base_uri": "https://localhost:8080/"
        },
        "id": "csSB9FLshArG",
        "outputId": "f254be30-3347-462c-f4e6-fd8a78c59bd9"
      },
      "execution_count": 14,
      "outputs": [
        {
          "output_type": "stream",
          "name": "stdout",
          "text": [
            "Tôi thích môn Toán Tôi thích AI Tôi thích âm nhạc\n"
          ]
        }
      ]
    },
    {
      "cell_type": "markdown",
      "source": [
        "## BoW"
      ],
      "metadata": {
        "id": "D2dHMO_-jYCL"
      }
    },
    {
      "cell_type": "code",
      "source": [
        "distinct_words = list(set(data.split()))\n",
        "distinct_words.sort()\n",
        "\n",
        "print(distinct_words)"
      ],
      "metadata": {
        "colab": {
          "base_uri": "https://localhost:8080/"
        },
        "id": "jF8zR9nnhqqc",
        "outputId": "5c37dcd5-f676-41a5-d012-decff57bbb00"
      },
      "execution_count": 21,
      "outputs": [
        {
          "output_type": "stream",
          "name": "stdout",
          "text": [
            "['AI', 'Toán', 'Tôi', 'môn', 'nhạc', 'thích', 'âm']\n"
          ]
        }
      ]
    },
    {
      "cell_type": "code",
      "source": [
        "for i, word in enumerate(distinct_words):\n",
        "  print(i, word)"
      ],
      "metadata": {
        "colab": {
          "base_uri": "https://localhost:8080/"
        },
        "id": "q63XXR7nikvE",
        "outputId": "f13e8fea-4cec-49e7-90d2-214623019926"
      },
      "execution_count": 22,
      "outputs": [
        {
          "output_type": "stream",
          "name": "stdout",
          "text": [
            "0 AI\n",
            "1 Toán\n",
            "2 Tôi\n",
            "3 môn\n",
            "4 nhạc\n",
            "5 thích\n",
            "6 âm\n"
          ]
        }
      ]
    },
    {
      "cell_type": "markdown",
      "source": [
        "## Vectorization"
      ],
      "metadata": {
        "id": "6Xu6uTBQivlo"
      }
    },
    {
      "cell_type": "code",
      "source": [
        "sample = \"Tôi thích AI thích Toán\"\n",
        "sample_vec = [0]*len(distinct_words)\n",
        "sample_words = sample.split()\n",
        "\n",
        "for word in sample_words:\n",
        "  index = distinct_words.index(word)\n",
        "  sample_vec[index] += 1\n",
        "\n",
        "print(sample_vec)"
      ],
      "metadata": {
        "colab": {
          "base_uri": "https://localhost:8080/"
        },
        "id": "kxpHCxZ3ixlx",
        "outputId": "ef8f89f7-893e-49fe-acd3-4c620801f26b"
      },
      "execution_count": 24,
      "outputs": [
        {
          "output_type": "stream",
          "name": "stdout",
          "text": [
            "[1, 1, 1, 0, 0, 2, 0]\n"
          ]
        }
      ]
    },
    {
      "cell_type": "markdown",
      "source": [
        "# Algorithms on List"
      ],
      "metadata": {
        "id": "ihOeWno6jZ3i"
      }
    },
    {
      "cell_type": "code",
      "source": [
        "lst_data = [1, 1.1, None, 1.4, None, 1.5, None, 2.0]\n",
        "print(lst_data)"
      ],
      "metadata": {
        "colab": {
          "base_uri": "https://localhost:8080/"
        },
        "id": "k0D7BcEyiu93",
        "outputId": "dace5fdd-e7b7-488c-f0e1-51a1ba170b68"
      },
      "execution_count": 25,
      "outputs": [
        {
          "output_type": "stream",
          "name": "stdout",
          "text": [
            "[1, 1.1, None, 1.4, None, 1.5, None, 2.0]\n"
          ]
        }
      ]
    },
    {
      "cell_type": "code",
      "source": [
        "# Find the first None position\n",
        "for i in range(len(lst_data)):\n",
        "  if lst_data[i] == None:\n",
        "    print(i)\n",
        "    break"
      ],
      "metadata": {
        "colab": {
          "base_uri": "https://localhost:8080/"
        },
        "id": "XNK3pZIlhX_V",
        "outputId": "7efd3a1e-5004-43df-8083-457be4e6784d"
      },
      "execution_count": 26,
      "outputs": [
        {
          "output_type": "stream",
          "name": "stdout",
          "text": [
            "2\n"
          ]
        }
      ]
    },
    {
      "cell_type": "code",
      "source": [
        "# Find all None positions\n",
        "index = []\n",
        "\n",
        "for i in range(len(lst_data)):\n",
        "  if lst_data[i] == None:\n",
        "    index.append(i)\n",
        "\n",
        "print(index)"
      ],
      "metadata": {
        "colab": {
          "base_uri": "https://localhost:8080/"
        },
        "id": "Z6XXQPZfkDIA",
        "outputId": "f6a44efe-295a-4a0a-a797-b7ad25e684ff"
      },
      "execution_count": 29,
      "outputs": [
        {
          "output_type": "stream",
          "name": "stdout",
          "text": [
            "[2, 4, 6]\n"
          ]
        }
      ]
    },
    {
      "cell_type": "markdown",
      "source": [
        "# Interpolation for List (Time-series)"
      ],
      "metadata": {
        "id": "icqEV1zPkZh5"
      }
    },
    {
      "cell_type": "code",
      "source": [
        "lst_data = [1, 1.1, None, 1.4, None, 1.5, None, 2.0]\n",
        "print(lst_data)"
      ],
      "metadata": {
        "colab": {
          "base_uri": "https://localhost:8080/"
        },
        "id": "aogri4yrkYcE",
        "outputId": "19a2eab6-0533-40d9-b877-c45713d8fbaf"
      },
      "execution_count": 32,
      "outputs": [
        {
          "output_type": "stream",
          "name": "stdout",
          "text": [
            "[1, 1.1, None, 1.4, None, 1.5, None, 2.0]\n"
          ]
        }
      ]
    },
    {
      "cell_type": "code",
      "source": [
        "for i in range(len(lst_data)):\n",
        "  if lst_data[i] == None:\n",
        "    if (lst_data[i-1] != None) and (lst_data[i+1] != None):\n",
        "      if lst_data[i-1] <= lst_data[i+1]:\n",
        "        lst_data[i] = lst_data[i-1]\n",
        "      else:\n",
        "        lst_data[i] = lst_data[i+1]\n",
        "    elif lst_data[i-1] == None and lst_data[i+1] != None:\n",
        "      lst_data[i] = lst_data[i+1]\n",
        "    else:\n",
        "      lst_data[i] = lst_data[i-1]\n",
        "\n",
        "print(lst_data)"
      ],
      "metadata": {
        "colab": {
          "base_uri": "https://localhost:8080/"
        },
        "id": "bOc1C8rkk5AS",
        "outputId": "e9a96e7a-6e43-48ff-cb70-c3fbad730449"
      },
      "execution_count": 38,
      "outputs": [
        {
          "output_type": "stream",
          "name": "stdout",
          "text": [
            "[1, 1.1, 1.1, 1.4, 1.4, 1.5, 1.5, 2.0]\n"
          ]
        }
      ]
    },
    {
      "cell_type": "markdown",
      "source": [
        "# 2D List"
      ],
      "metadata": {
        "id": "ENJh53I9miCq"
      }
    },
    {
      "cell_type": "code",
      "source": [
        "lst_data = [\n",
        "    [1, 2, 3],\n",
        "    [4, 5, 6],\n",
        "    [7, 8, 9]\n",
        "]\n",
        "\n",
        "print(lst_data)"
      ],
      "metadata": {
        "colab": {
          "base_uri": "https://localhost:8080/"
        },
        "id": "vKGPMtzGmjMZ",
        "outputId": "e2bf2439-21ea-462f-9450-686faccc73f8"
      },
      "execution_count": 40,
      "outputs": [
        {
          "output_type": "stream",
          "name": "stdout",
          "text": [
            "[[1, 2, 3], [4, 5, 6], [7, 8, 9]]\n"
          ]
        }
      ]
    },
    {
      "cell_type": "code",
      "source": [
        "lst_sub_data = [[lst_data[i][0], lst_data[i][2]] for i in range(len(lst_data))]\n",
        "\n",
        "print(lst_sub_data)"
      ],
      "metadata": {
        "colab": {
          "base_uri": "https://localhost:8080/"
        },
        "id": "5vGx4Y-vnClB",
        "outputId": "93dc68f2-66fb-4bf0-dcae-30e3890d9587"
      },
      "execution_count": 47,
      "outputs": [
        {
          "output_type": "stream",
          "name": "stdout",
          "text": [
            "[[1, 3], [4, 6], [7, 9]]\n"
          ]
        }
      ]
    },
    {
      "cell_type": "markdown",
      "source": [
        "# Matrix representation using List"
      ],
      "metadata": {
        "id": "KsxND_59oFf0"
      }
    },
    {
      "cell_type": "code",
      "source": [
        "mat_a = [[i, i+1, i+2] for i in range(1, 10, 3)]\n",
        "print(mat_a)\n",
        "\n",
        "mat_b = [\n",
        "    [2, 4, 6],\n",
        "    [1, 3, 5],\n",
        "    [1, 0, 1]\n",
        "]\n",
        "print(mat_b)"
      ],
      "metadata": {
        "colab": {
          "base_uri": "https://localhost:8080/"
        },
        "id": "X80xw7VtocKl",
        "outputId": "ef5a7961-3edb-42ec-aa33-8637d41a0221"
      },
      "execution_count": 52,
      "outputs": [
        {
          "output_type": "stream",
          "name": "stdout",
          "text": [
            "[[1, 2, 3], [4, 5, 6], [7, 8, 9]]\n",
            "[[2, 4, 6], [1, 3, 5], [1, 0, 1]]\n"
          ]
        }
      ]
    },
    {
      "cell_type": "code",
      "source": [
        "# Compute sum and sub of two matrices\n",
        "def sum_matrix(mat_a, mat_b):\n",
        "  sum_mat = []\n",
        "  for i in range(len(mat_a)):\n",
        "    compute_sum = []\n",
        "\n",
        "    for j in range(len(mat_a[0])):\n",
        "      compute_sum.append(mat_a[i][j] + mat_b[i][j])\n",
        "\n",
        "    sum_mat.append(compute_sum)\n",
        "\n",
        "  return sum_mat\n",
        "\n",
        "print('Sum =', sum_matrix(mat_a, mat_b))\n",
        "\n",
        "# Compute sum and sub of two matrices\n",
        "def sub_matrix(mat_a, mat_b):\n",
        "  sub_mat = []\n",
        "  for i in range(len(mat_a)):\n",
        "    compute_sub = []\n",
        "\n",
        "    for j in range(len(mat_a[0])):\n",
        "      compute_sub.append(mat_a[i][j] - mat_b[i][j])\n",
        "\n",
        "    sub_mat.append(compute_sub)\n",
        "\n",
        "  return sub_mat\n",
        "\n",
        "print('Sub =', sub_matrix(mat_a, mat_b))"
      ],
      "metadata": {
        "colab": {
          "base_uri": "https://localhost:8080/"
        },
        "id": "iHp6-sMtoMZf",
        "outputId": "7283c21d-ae42-4603-f0f5-bc8466e442c0"
      },
      "execution_count": 62,
      "outputs": [
        {
          "output_type": "stream",
          "name": "stdout",
          "text": [
            "Sum = [[3, 6, 9], [5, 8, 11], [8, 8, 10]]\n",
            "Sub = [[-1, -2, -3], [3, 2, 1], [6, 8, 8]]\n"
          ]
        }
      ]
    },
    {
      "cell_type": "code",
      "source": [
        "# Compute dot product of 2 matrices\n",
        "def dot_product(mat_a, mat_b):\n",
        "  dot_pro_mat = []\n",
        "  for i in range(len(mat_a)):\n",
        "    compute_dot = []\n",
        "\n",
        "    for j in range(len(mat_a[0])):\n",
        "      sum_dot = 0\n",
        "\n",
        "      for k in range(len(mat_a)):\n",
        "        sum_dot += mat_a[i][k] * mat_b[k][j]\n",
        "\n",
        "      compute_dot.append(sum_dot)\n",
        "\n",
        "    dot_pro_mat.append(compute_dot)\n",
        "\n",
        "  return dot_pro_mat\n",
        "\n",
        "print('Dot product =', dot_product(mat_a, mat_b))"
      ],
      "metadata": {
        "colab": {
          "base_uri": "https://localhost:8080/"
        },
        "id": "Vg3Jhx5xq4yH",
        "outputId": "b004c7ec-b574-485f-ddb4-81019b6e94f0"
      },
      "execution_count": 66,
      "outputs": [
        {
          "output_type": "stream",
          "name": "stdout",
          "text": [
            "Dot product = [[7, 10, 19], [19, 31, 55], [31, 52, 91]]\n"
          ]
        }
      ]
    },
    {
      "cell_type": "markdown",
      "source": [
        "# List Comprehension"
      ],
      "metadata": {
        "id": "OYKAwPo7r7Yo"
      }
    },
    {
      "cell_type": "code",
      "source": [
        "stop_words = [\"I\", \"love\", \"and\", \"to\"]\n",
        "input = \"I love AI and listen to music \"\n",
        "\n",
        "output = [i for i in input.split() if i not in stop_words]\n",
        "print(output)"
      ],
      "metadata": {
        "colab": {
          "base_uri": "https://localhost:8080/"
        },
        "id": "Rf-g4ucir8Oc",
        "outputId": "294782db-046f-4c04-9901-791c8d64ab34"
      },
      "execution_count": 73,
      "outputs": [
        {
          "output_type": "stream",
          "name": "stdout",
          "text": [
            "['AI', 'listen', 'music']\n"
          ]
        }
      ]
    },
    {
      "cell_type": "markdown",
      "source": [
        "# Mathemetic with List"
      ],
      "metadata": {
        "id": "-BJ242eNtcOO"
      }
    },
    {
      "cell_type": "markdown",
      "source": [
        "## Normalization"
      ],
      "metadata": {
        "id": "4XMWjOVJtkdI"
      }
    },
    {
      "cell_type": "code",
      "source": [
        "def normalize(lst_data):\n",
        "  max_value = max(lst_data)\n",
        "  min_value = min(lst_data)\n",
        "\n",
        "  for i in range(len(lst_data)):\n",
        "    lst_data[i] = (lst_data[i]-min_value)/(max_value-min_value)\n",
        "\n",
        "  return lst_data\n",
        "\n",
        "test_cases = [[11 , 18 , 24 , 30 , 36] ,[50 , 100 , 150 , 200 , 250], [3 , 5 , 7 , 9 , 11]]\n",
        "\n",
        "for i, test in enumerate(test_cases):\n",
        "  print('Test', i+1, ':', normalize(test))\n"
      ],
      "metadata": {
        "colab": {
          "base_uri": "https://localhost:8080/"
        },
        "id": "Uv-UPIKKteZv",
        "outputId": "454ae3ac-b6d1-4828-d27d-08f9869f3cb5"
      },
      "execution_count": 74,
      "outputs": [
        {
          "output_type": "stream",
          "name": "stdout",
          "text": [
            "Test 1 : [0.0, 0.28, 0.52, 0.76, 1.0]\n",
            "Test 2 : [0.0, 0.25, 0.5, 0.75, 1.0]\n",
            "Test 3 : [0.0, 0.25, 0.5, 0.75, 1.0]\n"
          ]
        }
      ]
    },
    {
      "cell_type": "markdown",
      "source": [
        "## Moving Average"
      ],
      "metadata": {
        "id": "-4KkCHAGujSe"
      }
    },
    {
      "cell_type": "code",
      "source": [
        "def sum_window(lst_data):\n",
        "  result = 0\n",
        "  for i in lst_data:\n",
        "    result += i\n",
        "  return result\n",
        "\n",
        "def moving_average(lst, k):\n",
        "  moving_aver = []\n",
        "\n",
        "  for i in range(len(lst)-k+1):\n",
        "    moving_aver.append(sum_window(lst[i:i+k])/k)\n",
        "\n",
        "  return moving_aver"
      ],
      "metadata": {
        "id": "5hk2vKQwulNJ"
      },
      "execution_count": 82,
      "outputs": []
    },
    {
      "cell_type": "code",
      "source": [
        "test_cases = [([1 , 2 , 3 , 4 , 5 , 6 , 7 , 8 , 9] , 3) , ([10 , 20 , 30 , 40 , 50 , 60 , 70], 4), ([5 , 10 , 15 , 20 , 25] , 2)]\n",
        "\n",
        "for i, (test, k) in enumerate(test_cases):\n",
        "  print('Test', i+1, ':', moving_average(test, k))"
      ],
      "metadata": {
        "colab": {
          "base_uri": "https://localhost:8080/"
        },
        "id": "bqBjxBhpy3Yn",
        "outputId": "cdae4205-5e39-4c6d-fdb8-b1c6250711b1"
      },
      "execution_count": 86,
      "outputs": [
        {
          "output_type": "stream",
          "name": "stdout",
          "text": [
            "Test 1 : [2.0, 3.0, 4.0, 5.0, 6.0, 7.0, 8.0]\n",
            "Test 2 : [25.0, 35.0, 45.0, 55.0]\n",
            "Test 3 : [7.5, 12.5, 17.5, 22.5]\n"
          ]
        }
      ]
    },
    {
      "cell_type": "markdown",
      "source": [
        "## Dot Product"
      ],
      "metadata": {
        "id": "U98-RzLxzMoH"
      }
    },
    {
      "cell_type": "code",
      "source": [
        "def dot_product(v, u):\n",
        "  dot_pro = 0\n",
        "\n",
        "  for i in range(len(v)):\n",
        "    dot_pro += v[i] * u[i]\n",
        "\n",
        "  return dot_pro\n",
        "\n",
        "test_cases = [\n",
        "    ([1, 2, 3], [4, 5, 6]),\n",
        "    ([2, 4, 6], [1, 3, 5]),\n",
        "    ([0, 1, 2], [3, 4, 5])\n",
        "]\n",
        "\n",
        "for i, (v, u) in enumerate(test_cases):\n",
        "  print('Test', i+1, ':', dot_product(v, u))"
      ],
      "metadata": {
        "colab": {
          "base_uri": "https://localhost:8080/"
        },
        "id": "f-_nux13zObM",
        "outputId": "b1c9a243-0f9f-4d44-c74f-16644e30bae9"
      },
      "execution_count": 87,
      "outputs": [
        {
          "output_type": "stream",
          "name": "stdout",
          "text": [
            "Test 1 : 32\n",
            "Test 2 : 44\n",
            "Test 3 : 14\n"
          ]
        }
      ]
    },
    {
      "cell_type": "markdown",
      "source": [
        "## Perceptron Simulation"
      ],
      "metadata": {
        "id": "pZavVJHN0JPE"
      }
    },
    {
      "cell_type": "code",
      "source": [
        "def relu(y):\n",
        "  if y > 0:\n",
        "    output = y\n",
        "  else:\n",
        "    output = 0\n",
        "  return output\n",
        "\n",
        "def perceptron(w, x, bias):\n",
        "  sum_w = 0\n",
        "\n",
        "  for i in range(len(w)):\n",
        "    sum_w += w[i]*x[i]\n",
        "\n",
        "  sum_w += bias\n",
        "  return relu(sum_w)\n"
      ],
      "metadata": {
        "id": "TclRKzAa0LI9"
      },
      "execution_count": 95,
      "outputs": []
    },
    {
      "cell_type": "code",
      "source": [
        "test_cases = [\n",
        "    ([0.5, -0.6, 0.8], [1.0, 0.0, 1.0], -0.3),\n",
        "    ([0.2, 0.5, -0.4], [1.0, 2.0, -1.0], 0.1),\n",
        "    ([1.0, -1.0, 0.5], [0.5, 1.0, -0.5], -0.2)\n",
        "]\n",
        "\n",
        "for i, (w, x, bias) in enumerate(test_cases):\n",
        "    result = perceptron(w, x, bias)\n",
        "    print(f\"Test {i+1}: {result}\")"
      ],
      "metadata": {
        "colab": {
          "base_uri": "https://localhost:8080/"
        },
        "id": "jaU795AE1OJU",
        "outputId": "a9553be7-fdb3-4a13-81d9-812295d85959"
      },
      "execution_count": 96,
      "outputs": [
        {
          "output_type": "stream",
          "name": "stdout",
          "text": [
            "Test 1: 1.0\n",
            "Test 2: 1.7000000000000002\n",
            "Test 3: 0\n"
          ]
        }
      ]
    }
  ]
}