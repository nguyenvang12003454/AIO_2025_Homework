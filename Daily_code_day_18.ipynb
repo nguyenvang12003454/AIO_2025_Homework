{
  "nbformat": 4,
  "nbformat_minor": 0,
  "metadata": {
    "colab": {
      "provenance": [],
      "authorship_tag": "ABX9TyPutQ9FtZhhyz2oDKFx5M7Q",
      "include_colab_link": true
    },
    "kernelspec": {
      "name": "python3",
      "display_name": "Python 3"
    },
    "language_info": {
      "name": "python"
    }
  },
  "cells": [
    {
      "cell_type": "markdown",
      "metadata": {
        "id": "view-in-github",
        "colab_type": "text"
      },
      "source": [
        "<a href=\"https://colab.research.google.com/github/nguyenvang12003454/AIO_2025_Homework/blob/main/Daily_code_day_18.ipynb\" target=\"_parent\"><img src=\"https://colab.research.google.com/assets/colab-badge.svg\" alt=\"Open In Colab\"/></a>"
      ]
    },
    {
      "cell_type": "markdown",
      "source": [
        "# Python OOP"
      ],
      "metadata": {
        "id": "4wsQU0Wqocfc"
      }
    },
    {
      "cell_type": "markdown",
      "source": [
        "## Follow the requirements as shown in class diagram"
      ],
      "metadata": {
        "id": "XE51GkxNoh75"
      }
    },
    {
      "cell_type": "code",
      "execution_count": 93,
      "metadata": {
        "id": "Ni3iS9vaoYbB"
      },
      "outputs": [],
      "source": [
        "# Building class Manufacturer\n",
        "class Manufacturer:\n",
        "  def __init__(self, identity, location):\n",
        "    self.identity = identity\n",
        "    self.location = location\n",
        "\n",
        "  def describe(self):\n",
        "    return f'Identity: {self.identity} - Location: {self.location}'\n",
        "\n",
        "# Building class Device\n",
        "class Device:\n",
        "  def __init__(self, name, price, identity, location):\n",
        "    self.name = name\n",
        "    self.price = price\n",
        "    self.manufacturer = Manufacturer(identity, location)\n",
        "\n",
        "  def describe(self):\n",
        "    description = f'Name: {self.name} - Price: {self.price}\\n'\n",
        "    description += self.manufacturer.describe()\n",
        "\n",
        "    return description"
      ]
    },
    {
      "cell_type": "code",
      "source": [
        "# Device 1\n",
        "device1 = Device(name=\"mouse\", price=2.5, identity=9725, location=\"Vietnam\")\n",
        "print(device1.describe())"
      ],
      "metadata": {
        "colab": {
          "base_uri": "https://localhost:8080/"
        },
        "id": "Yv6_gBkeqpgR",
        "outputId": "41664a89-844b-4fe8-b357-c193b16c17a7"
      },
      "execution_count": 94,
      "outputs": [
        {
          "output_type": "stream",
          "name": "stdout",
          "text": [
            "Name: mouse - Price: 2.5\n",
            "Identity: 9725 - Location: Vietnam\n"
          ]
        }
      ]
    },
    {
      "cell_type": "code",
      "source": [
        "# Device 2\n",
        "device2 = Device(name=\"monitor\", price=12.5, identity=11, location=\"Germany\")\n",
        "print(device2.describe())"
      ],
      "metadata": {
        "colab": {
          "base_uri": "https://localhost:8080/"
        },
        "id": "UZqZbVKYtNO7",
        "outputId": "7b608db7-b26b-4664-f03e-278921572fa9"
      },
      "execution_count": 95,
      "outputs": [
        {
          "output_type": "stream",
          "name": "stdout",
          "text": [
            "Name: monitor - Price: 12.5\n",
            "Identity: 11 - Location: Germany\n"
          ]
        }
      ]
    },
    {
      "cell_type": "markdown",
      "source": [
        "## Building Ward"
      ],
      "metadata": {
        "id": "8uILYZZVtOHt"
      }
    },
    {
      "cell_type": "code",
      "source": [
        "# Define class Person, Student, Teacher, Doctor\n",
        "class Person:\n",
        "  def __init__(self, name, yob):\n",
        "    self.name = name\n",
        "    self.yob = yob\n",
        "\n",
        "  def describe(self):\n",
        "    return f'Name: {self.name} - YOB: {self.yob}'\n",
        "\n",
        "class Student(Person):\n",
        "  def __init__(self, name, yob, grade):\n",
        "    super().__init__(name, yob)\n",
        "    self.grade = grade\n",
        "\n",
        "  def describe(self):\n",
        "    return f'Student - {super().describe()} - Grade: {self.grade}'\n",
        "\n",
        "class Teacher(Person):\n",
        "  def __init__(self, name, yob, subject):\n",
        "    super().__init__(name, yob)\n",
        "    self.subject = subject\n",
        "\n",
        "  def describe(self):\n",
        "    return f'Teacher - {super().describe()} - Subject: {self.subject}'\n",
        "\n",
        "class Doctor(Person):\n",
        "  def __init__(self, name, yob, specialty):\n",
        "    super().__init__(name, yob)\n",
        "    self.specialty = specialty\n",
        "\n",
        "  def describe(self):\n",
        "    return f'Doctor - {super().describe()} - Specialty: {self.specialty}'"
      ],
      "metadata": {
        "id": "9dAG4tKHtlcd"
      },
      "execution_count": 96,
      "outputs": []
    },
    {
      "cell_type": "code",
      "source": [
        "student1 = Student(name='StudentA', yob=2000, grade=10)\n",
        "print(student1.describe())\n",
        "\n",
        "teacher1 = Teacher(name='TeacherA', yob=1990, subject='Math')\n",
        "print(teacher1.describe())\n",
        "\n",
        "doctor1 = Doctor(name='DoctorA', yob=1980, specialty='Medicine')\n",
        "print(doctor1.describe())"
      ],
      "metadata": {
        "colab": {
          "base_uri": "https://localhost:8080/"
        },
        "id": "lAYeIoMowuMS",
        "outputId": "4e69c68d-8738-4d45-a0a7-9af99787c622"
      },
      "execution_count": 97,
      "outputs": [
        {
          "output_type": "stream",
          "name": "stdout",
          "text": [
            "Student - Name: StudentA - YOB: 2000 - Grade: 10\n",
            "Teacher - Name: TeacherA - YOB: 1990 - Subject: Math\n",
            "Doctor - Name: DoctorA - YOB: 1980 - Specialty: Medicine\n"
          ]
        }
      ]
    },
    {
      "cell_type": "code",
      "source": [
        "# Define class Ward\n",
        "from abc import ABC, abstractmethod\n",
        "\n",
        "class Ward(ABC):\n",
        "  def __init__(self, name):\n",
        "    self.name = name\n",
        "    self.people = []\n",
        "\n",
        "  def addPerson(self, person):\n",
        "    self.people.append(person)\n",
        "\n",
        "  def describe(self):\n",
        "    print(f'Ward: {self.name}')\n",
        "    for person in self.people:\n",
        "      print(person.describe())\n",
        "\n",
        "  def countDoctor(self):\n",
        "    return len([person for person in self.people if isinstance(person, Doctor)])\n",
        "\n",
        "  def sortAge(self):\n",
        "    return sorted(self.people, key=lambda person: person.yob)\n",
        "\n",
        "  def aveTeacherYOB(self):\n",
        "    teachers = [person for person in self.people if isinstance(person, Teacher)]\n",
        "    if len(teachers) == 0:\n",
        "      return 0\n",
        "    return sum([teacher.yob for teacher in teachers]) / len(teachers)"
      ],
      "metadata": {
        "id": "l3EXWGgJ24pj"
      },
      "execution_count": 98,
      "outputs": []
    },
    {
      "cell_type": "code",
      "source": [
        "# 2b\n",
        "teacher2 = Teacher(name='TeacherB', yob=1995, subject='English')\n",
        "doctor2 = Doctor(name:='DoctorB', yob=1985, specialty='Surgery')\n",
        "\n",
        "ward1 = Ward(name='WardA')\n",
        "ward1.addPerson(student1)\n",
        "\n",
        "ward1.addPerson(teacher1)\n",
        "ward1.addPerson(teacher2)\n",
        "\n",
        "ward1.addPerson(doctor1)\n",
        "ward1.addPerson(doctor2)\n",
        "\n",
        "ward1.describe()"
      ],
      "metadata": {
        "colab": {
          "base_uri": "https://localhost:8080/"
        },
        "id": "DxPFGZVu4q4p",
        "outputId": "e47b43e6-ce50-456b-9ea4-18fe408ec66f"
      },
      "execution_count": 99,
      "outputs": [
        {
          "output_type": "stream",
          "name": "stdout",
          "text": [
            "Ward: WardA\n",
            "Student - Name: StudentA - YOB: 2000 - Grade: 10\n",
            "Teacher - Name: TeacherA - YOB: 1990 - Subject: Math\n",
            "Teacher - Name: TeacherB - YOB: 1995 - Subject: English\n",
            "Doctor - Name: DoctorA - YOB: 1980 - Specialty: Medicine\n",
            "Doctor - Name: DoctorB - YOB: 1985 - Specialty: Surgery\n"
          ]
        }
      ]
    },
    {
      "cell_type": "code",
      "source": [
        "#2c\n",
        "print(f'Number of doctors: {ward1.countDoctor()}')"
      ],
      "metadata": {
        "colab": {
          "base_uri": "https://localhost:8080/"
        },
        "id": "9zZormoU5Xmc",
        "outputId": "053df533-9abb-4466-ee41-26f1937620b6"
      },
      "execution_count": 100,
      "outputs": [
        {
          "output_type": "stream",
          "name": "stdout",
          "text": [
            "Number of doctors: 2\n"
          ]
        }
      ]
    },
    {
      "cell_type": "code",
      "source": [
        "# 2d\n",
        "sorted_people = ward1.sortAge()\n",
        "for person in sorted_people:\n",
        "  print(person.describe())"
      ],
      "metadata": {
        "colab": {
          "base_uri": "https://localhost:8080/"
        },
        "id": "L2x4H0TG5cSC",
        "outputId": "120bd95a-86f3-4959-da01-e6b1d5a7efdb"
      },
      "execution_count": 101,
      "outputs": [
        {
          "output_type": "stream",
          "name": "stdout",
          "text": [
            "Doctor - Name: DoctorA - YOB: 1980 - Specialty: Medicine\n",
            "Doctor - Name: DoctorB - YOB: 1985 - Specialty: Surgery\n",
            "Teacher - Name: TeacherA - YOB: 1990 - Subject: Math\n",
            "Teacher - Name: TeacherB - YOB: 1995 - Subject: English\n",
            "Student - Name: StudentA - YOB: 2000 - Grade: 10\n"
          ]
        }
      ]
    },
    {
      "cell_type": "code",
      "source": [
        "# 2e\n",
        "print(f'Average YOB of teachers: {ward1.aveTeacherYOB()}')"
      ],
      "metadata": {
        "colab": {
          "base_uri": "https://localhost:8080/"
        },
        "id": "JWLkcT8D5gDq",
        "outputId": "d8e9c13b-96d1-47f0-bbc9-bfdbfc83e741"
      },
      "execution_count": 102,
      "outputs": [
        {
          "output_type": "stream",
          "name": "stdout",
          "text": [
            "Average YOB of teachers: 1992.5\n"
          ]
        }
      ]
    },
    {
      "cell_type": "markdown",
      "source": [
        "## Building class Stack"
      ],
      "metadata": {
        "id": "wsIbwCa85mzT"
      }
    },
    {
      "cell_type": "code",
      "source": [
        "class Stack:\n",
        "  def __init__(self, capacity):\n",
        "    self.capacity = capacity\n",
        "    self.stack = []\n",
        "    self.top = -1\n",
        "\n",
        "  def is_empty(self):\n",
        "    return self.top==-1\n",
        "\n",
        "  def is_full(self):\n",
        "    return self.top==self.capacity-1\n",
        "\n",
        "  def push(self, value):\n",
        "    if not self.is_full():\n",
        "      self.top += 1\n",
        "      self.stack.append(value)\n",
        "    else:\n",
        "      print('Stack is full')\n",
        "\n",
        "  def pop(self):\n",
        "    if not self.is_empty():\n",
        "      self.top -= 1\n",
        "      return self.stack.pop()\n",
        "    else:\n",
        "      print('Stack is empty')\n",
        "\n",
        "  def peek(self):\n",
        "    if not self.is_empty():\n",
        "      return self.stack[self.top]\n",
        "    else:\n",
        "      print('Stack is empty')\n",
        "      return None"
      ],
      "metadata": {
        "id": "eFKJKioR5q8t"
      },
      "execution_count": 103,
      "outputs": []
    },
    {
      "cell_type": "code",
      "source": [
        "stack1 = Stack(capacity=5)\n",
        "stack1.push(1)\n",
        "stack1.push(2)\n",
        "print(stack1.is_full())"
      ],
      "metadata": {
        "colab": {
          "base_uri": "https://localhost:8080/"
        },
        "id": "8ZuP9KwQ9qbH",
        "outputId": "fcf54f43-14f7-4995-c951-3889a01f5dfa"
      },
      "execution_count": 104,
      "outputs": [
        {
          "output_type": "stream",
          "name": "stdout",
          "text": [
            "False\n"
          ]
        }
      ]
    },
    {
      "cell_type": "code",
      "source": [
        "print(stack1.peek())"
      ],
      "metadata": {
        "colab": {
          "base_uri": "https://localhost:8080/"
        },
        "id": "2XqmtvYU9xi0",
        "outputId": "f2b97b22-6ed6-4ffb-ef26-ac38e1937c49"
      },
      "execution_count": 105,
      "outputs": [
        {
          "output_type": "stream",
          "name": "stdout",
          "text": [
            "2\n"
          ]
        }
      ]
    },
    {
      "cell_type": "code",
      "source": [
        "print(stack1.pop())"
      ],
      "metadata": {
        "colab": {
          "base_uri": "https://localhost:8080/"
        },
        "id": "DlkaIMvQ_B8T",
        "outputId": "e0c59276-55b1-46fc-ed9a-45e5ffc6a841"
      },
      "execution_count": 106,
      "outputs": [
        {
          "output_type": "stream",
          "name": "stdout",
          "text": [
            "2\n"
          ]
        }
      ]
    },
    {
      "cell_type": "code",
      "source": [
        "print(stack1.peek())"
      ],
      "metadata": {
        "colab": {
          "base_uri": "https://localhost:8080/"
        },
        "id": "tgFJrDJg_Fe9",
        "outputId": "45cd6313-3598-43cf-c2d3-44f33c24db7c"
      },
      "execution_count": 107,
      "outputs": [
        {
          "output_type": "stream",
          "name": "stdout",
          "text": [
            "1\n"
          ]
        }
      ]
    },
    {
      "cell_type": "code",
      "source": [
        "print(stack1.pop())"
      ],
      "metadata": {
        "colab": {
          "base_uri": "https://localhost:8080/"
        },
        "id": "7beXn9SU_w5p",
        "outputId": "487d5e90-8891-4e84-896c-0c4a3614114c"
      },
      "execution_count": 109,
      "outputs": [
        {
          "output_type": "stream",
          "name": "stdout",
          "text": [
            "1\n"
          ]
        }
      ]
    },
    {
      "cell_type": "code",
      "source": [
        "print(stack1.is_empty())"
      ],
      "metadata": {
        "colab": {
          "base_uri": "https://localhost:8080/"
        },
        "id": "JHQ-70Dg_jWN",
        "outputId": "65d99796-4ae4-4419-c0a8-4f2ec9428d7d"
      },
      "execution_count": 110,
      "outputs": [
        {
          "output_type": "stream",
          "name": "stdout",
          "text": [
            "True\n"
          ]
        }
      ]
    },
    {
      "cell_type": "markdown",
      "source": [
        "## Building class Queue"
      ],
      "metadata": {
        "id": "itZQf8Ri_0tt"
      }
    },
    {
      "cell_type": "code",
      "source": [
        "class Queue:\n",
        "    def __init__(self, capacity):\n",
        "        self.capacity = capacity\n",
        "        self.queue = []\n",
        "        self.front = 0\n",
        "        self.rear = -1\n",
        "        self.size = 0\n",
        "\n",
        "    def is_empty(self):\n",
        "        return self.size == 0\n",
        "\n",
        "    def is_full(self):\n",
        "        return self.size == self.capacity\n",
        "\n",
        "    def enqueue(self, value):\n",
        "        if not self.is_full():\n",
        "            self.rear = (self.rear + 1) % self.capacity  # Circular queue adjustment\n",
        "            if len(self.queue) < self.capacity:\n",
        "                self.queue.append(value)\n",
        "            else:\n",
        "                self.queue[self.rear] = value\n",
        "            self.size += 1\n",
        "        else:\n",
        "            print(\"Queue is full\")\n",
        "\n",
        "    def dequeue(self):\n",
        "        if not self.is_empty():\n",
        "            result = self.queue[self.front]\n",
        "            self.front = (self.front + 1) % self.capacity  # Circular queue adjustment\n",
        "            self.size -= 1\n",
        "            return result\n",
        "        else:\n",
        "            print(\"Queue is empty\")\n",
        "            return None\n",
        "\n",
        "    def get_front(self):\n",
        "        if not self.is_empty():\n",
        "            return self.queue[self.front]\n",
        "        else:\n",
        "            print(\"Queue is empty\")\n",
        "            return None\n"
      ],
      "metadata": {
        "id": "t1ekaGqf_4ok"
      },
      "execution_count": 149,
      "outputs": []
    },
    {
      "cell_type": "code",
      "source": [
        "q = Queue(capacity=5)\n",
        "q.enqueue(1)\n",
        "q.enqueue(2)\n",
        "print(q.is_full())"
      ],
      "metadata": {
        "colab": {
          "base_uri": "https://localhost:8080/"
        },
        "id": "7u9Vo8YV_6FD",
        "outputId": "089e7841-9ffb-4920-9964-64ec5560454c"
      },
      "execution_count": 150,
      "outputs": [
        {
          "output_type": "stream",
          "name": "stdout",
          "text": [
            "False\n"
          ]
        }
      ]
    },
    {
      "cell_type": "code",
      "source": [
        "q.get_front()"
      ],
      "metadata": {
        "colab": {
          "base_uri": "https://localhost:8080/"
        },
        "id": "gf6UVv07BCcO",
        "outputId": "d475a076-c5f6-4999-ecbf-1fe196e02491"
      },
      "execution_count": 151,
      "outputs": [
        {
          "output_type": "execute_result",
          "data": {
            "text/plain": [
              "1"
            ]
          },
          "metadata": {},
          "execution_count": 151
        }
      ]
    },
    {
      "cell_type": "code",
      "source": [
        "print(q.dequeue())"
      ],
      "metadata": {
        "colab": {
          "base_uri": "https://localhost:8080/"
        },
        "id": "qOzI_7JLBFoi",
        "outputId": "e2847531-5f5d-46a0-8fe8-235f727cc314"
      },
      "execution_count": 152,
      "outputs": [
        {
          "output_type": "stream",
          "name": "stdout",
          "text": [
            "1\n"
          ]
        }
      ]
    },
    {
      "cell_type": "code",
      "source": [
        "q.get_front()"
      ],
      "metadata": {
        "colab": {
          "base_uri": "https://localhost:8080/"
        },
        "id": "UxXUcw8FCXvK",
        "outputId": "4587bd42-2a4e-4152-e38d-bdd7d1a2a817"
      },
      "execution_count": 154,
      "outputs": [
        {
          "output_type": "execute_result",
          "data": {
            "text/plain": [
              "2"
            ]
          },
          "metadata": {},
          "execution_count": 154
        }
      ]
    },
    {
      "cell_type": "code",
      "source": [
        "q.dequeue()"
      ],
      "metadata": {
        "colab": {
          "base_uri": "https://localhost:8080/"
        },
        "id": "T3e_-C4VCcNu",
        "outputId": "39294d3d-1804-4139-c282-47ae1beb1908"
      },
      "execution_count": 155,
      "outputs": [
        {
          "output_type": "execute_result",
          "data": {
            "text/plain": [
              "2"
            ]
          },
          "metadata": {},
          "execution_count": 155
        }
      ]
    },
    {
      "cell_type": "code",
      "source": [
        "q.is_empty()"
      ],
      "metadata": {
        "colab": {
          "base_uri": "https://localhost:8080/"
        },
        "id": "XFHpbkJMCeb1",
        "outputId": "45791772-e7b4-4414-bf3e-f793a99a543a"
      },
      "execution_count": 156,
      "outputs": [
        {
          "output_type": "execute_result",
          "data": {
            "text/plain": [
              "True"
            ]
          },
          "metadata": {},
          "execution_count": 156
        }
      ]
    }
  ]
}