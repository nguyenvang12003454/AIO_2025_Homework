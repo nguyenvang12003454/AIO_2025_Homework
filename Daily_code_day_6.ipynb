{
  "nbformat": 4,
  "nbformat_minor": 0,
  "metadata": {
    "colab": {
      "provenance": [],
      "authorship_tag": "ABX9TyPu9IA4M5bQBgw3Ic/AjT+/",
      "include_colab_link": true
    },
    "kernelspec": {
      "name": "python3",
      "display_name": "Python 3"
    },
    "language_info": {
      "name": "python"
    }
  },
  "cells": [
    {
      "cell_type": "markdown",
      "metadata": {
        "id": "view-in-github",
        "colab_type": "text"
      },
      "source": [
        "<a href=\"https://colab.research.google.com/github/nguyenvang12003454/AIO_2025_Homework/blob/main/Daily_code_day_6.ipynb\" target=\"_parent\"><img src=\"https://colab.research.google.com/assets/colab-badge.svg\" alt=\"Open In Colab\"/></a>"
      ]
    },
    {
      "cell_type": "markdown",
      "source": [
        "# List Creation and Accessing"
      ],
      "metadata": {
        "id": "ADhED1a5afft"
      }
    },
    {
      "cell_type": "code",
      "source": [
        "# Creat a list\n",
        "lst_data = []\n",
        "for i in range(1, 11):\n",
        "  lst_data.append(i)\n",
        "\n",
        "print(lst_data)"
      ],
      "metadata": {
        "id": "fNDIefUeawFH",
        "colab": {
          "base_uri": "https://localhost:8080/"
        },
        "outputId": "a79866a7-6806-4182-d3bf-1168b7cfea54"
      },
      "execution_count": null,
      "outputs": [
        {
          "output_type": "stream",
          "name": "stdout",
          "text": [
            "[1, 2, 3, 4, 5, 6, 7, 8, 9, 10]\n"
          ]
        }
      ]
    },
    {
      "cell_type": "code",
      "execution_count": null,
      "metadata": {
        "id": "ANO5GoGAabZb",
        "colab": {
          "base_uri": "https://localhost:8080/"
        },
        "outputId": "a0b092e6-7f06-401d-9053-ca2a69ef6004"
      },
      "outputs": [
        {
          "output_type": "stream",
          "name": "stdout",
          "text": [
            "[1, 2, 3, 4, 5]\n"
          ]
        }
      ],
      "source": [
        "# Print first 5 elements\n",
        "\n",
        "print(lst_data[:5])"
      ]
    },
    {
      "cell_type": "code",
      "source": [
        "# Print element whose value is not divisible by 2\n",
        "for i in lst_data:\n",
        "  if i % 2 != 0:\n",
        "    print(i)"
      ],
      "metadata": {
        "colab": {
          "base_uri": "https://localhost:8080/"
        },
        "id": "uYC3yfd9WsMd",
        "outputId": "805ea9ee-5a83-4271-bcbd-0585617aeafc"
      },
      "execution_count": null,
      "outputs": [
        {
          "output_type": "stream",
          "name": "stdout",
          "text": [
            "1\n",
            "3\n",
            "5\n",
            "7\n",
            "9\n"
          ]
        }
      ]
    },
    {
      "cell_type": "code",
      "source": [
        "# Print sum of values in list\n",
        "sum = 0\n",
        "\n",
        "for i in lst_data:\n",
        "  sum += i\n",
        "\n",
        "print(sum)"
      ],
      "metadata": {
        "colab": {
          "base_uri": "https://localhost:8080/"
        },
        "id": "i5d65KQnXTkg",
        "outputId": "7230e29d-2b58-452c-f72d-e12012390b1c"
      },
      "execution_count": null,
      "outputs": [
        {
          "output_type": "stream",
          "name": "stdout",
          "text": [
            "55\n"
          ]
        }
      ]
    }
  ]
}